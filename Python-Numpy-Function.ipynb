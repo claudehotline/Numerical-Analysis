{
 "cells": [
  {
   "cell_type": "markdown",
   "metadata": {},
   "source": [
    "### 随机数"
   ]
  },
  {
   "cell_type": "code",
<<<<<<< Updated upstream
   "execution_count": 1,
=======
   "execution_count": 2,
>>>>>>> Stashed changes
   "metadata": {
    "collapsed": true
   },
   "outputs": [],
   "source": [
    "import numpy as np\n",
    "from numpy import random as nr"
   ]
  },
  {
   "cell_type": "code",
<<<<<<< Updated upstream
   "execution_count": 2,
=======
   "execution_count": 3,
>>>>>>> Stashed changes
   "metadata": {},
   "outputs": [
    {
     "data": {
      "text/plain": [
<<<<<<< Updated upstream
       "array([[ 0.38,  0.84, -0.24],\n",
       "       [ 0.78,  0.46,  1.47],\n",
       "       [-1.02, -1.44, -0.6 ],\n",
       "       [-0.5 , -0.23, -1.01]])"
      ]
     },
     "execution_count": 2,
=======
       "array([[-0.53,  0.57,  0.44],\n",
       "       [-0.11, -0.2 ,  1.54],\n",
       "       [-1.44, -2.52,  0.14],\n",
       "       [-2.41, -0.01, -1.53]])"
      ]
     },
     "execution_count": 3,
>>>>>>> Stashed changes
     "metadata": {},
     "output_type": "execute_result"
    }
   ],
   "source": [
    "np.set_printoptions(precision=2)\n",
    "r1 = nr.rand(4,3)\n",
    "r2 = nr.randn(4,3)\n",
    "r3 = nr.randint(0, 10, (4, 3))\n",
    "r2"
   ]
  },
  {
   "cell_type": "code",
<<<<<<< Updated upstream
   "execution_count": 3,
=======
   "execution_count": 4,
>>>>>>> Stashed changes
   "metadata": {},
   "outputs": [
    {
     "name": "stdout",
     "output_type": "stream",
     "text": [
<<<<<<< Updated upstream
      "[[ 114.31  107.54   80.9 ]\n",
      " [  89.89   90.05  109.73]\n",
      " [ 106.87  135.36  106.87]\n",
      " [  91.94   91.23  120.21]]\n",
      "[[0 3 3]\n",
      " [2 1 1]\n",
      " [1 0 2]\n",
      " [2 1 3]]\n"
=======
      "[[  72.02  109.53  118.51]\n",
      " [ 117.91  104.36   93.01]\n",
      " [  95.77  112.85  110.32]\n",
      " [ 106.03   97.41  104.9 ]]\n",
      "[[1 4 2]\n",
      " [4 2 4]\n",
      " [3 0 2]\n",
      " [3 1 2]]\n"
>>>>>>> Stashed changes
     ]
    }
   ],
   "source": [
    "r1 = nr.normal(100, 10, (4, 3))\n",
    "r2 = nr.uniform(10, 20, (4, 3))\n",
    "r3 = nr.poisson(2.0, (4, 3))\n",
    "print r1\n",
    "print r3"
   ]
  },
  {
   "cell_type": "code",
<<<<<<< Updated upstream
   "execution_count": 4,
=======
   "execution_count": 5,
>>>>>>> Stashed changes
   "metadata": {},
   "outputs": [
    {
     "name": "stdout",
     "output_type": "stream",
     "text": [
<<<<<<< Updated upstream
      "[9 1 7 4 5 3 2 0 6 8]\n",
      "[10  1 20 40 30]\n",
      "[ 1 30 10 40 20]\n"
=======
      "[2 6 4 3 1 8 7 9 5 0]\n",
      "[ 1 20 30 10 40]\n",
      "[40 20 10 30  1]\n"
>>>>>>> Stashed changes
     ]
    }
   ],
   "source": [
    "a = np.array([1, 10, 20, 30, 40])\n",
    "print nr.permutation(10)\n",
    "print nr.permutation(a)\n",
    "nr.shuffle(a)\n",
    "print a"
   ]
  },
  {
   "cell_type": "code",
<<<<<<< Updated upstream
   "execution_count": 5,
=======
   "execution_count": 6,
>>>>>>> Stashed changes
   "metadata": {},
   "outputs": [
    {
     "name": "stdout",
     "output_type": "stream",
     "text": [
<<<<<<< Updated upstream
      "[[ 22.  19.  20.]\n",
      " [ 13.  13.  21.]\n",
      " [ 14.  10.  24.]\n",
      " [ 12.  24.  22.]]\n",
      "[[ 13.  22.  21.]\n",
      " [ 17.  20.  19.]\n",
      " [ 24.  11.  14.]\n",
      " [ 23.  12.  15.]]\n",
      "[[ 14.  17.  11.]\n",
      " [ 23.  21.  10.]\n",
      " [ 17.  11.  17.]\n",
      " [ 19.  19.  22.]]\n"
=======
      "[[ 14.  12.  10.]\n",
      " [ 21.  17.  19.]\n",
      " [ 18.  13.  15.]\n",
      " [ 17.  15.  21.]]\n",
      "[[ 11.  12.  24.]\n",
      " [ 13.  22.  15.]\n",
      " [ 14.  10.  23.]\n",
      " [ 21.  17.  18.]]\n",
      "[[ 18.  23.  20.]\n",
      " [ 14.  23.  14.]\n",
      " [ 10.  14.  11.]\n",
      " [ 13.  20.  24.]]\n"
>>>>>>> Stashed changes
     ]
    }
   ],
   "source": [
    "a = np.arange(10, 25, dtype=float)\n",
    "c1 = nr.choice(a, size=(4, 3))\n",
    "c2 = nr.choice(a, size=(4, 3), replace=False) # 可重复抽取\n",
    "c3 = nr.choice(a, size=(4,3 ), p=a / np.sum(a)) # 越大的数抽取概率越大\n",
    "print c1\n",
    "print c2\n",
    "print c3"
   ]
  },
  {
   "cell_type": "code",
<<<<<<< Updated upstream
   "execution_count": 6,
=======
   "execution_count": 7,
>>>>>>> Stashed changes
   "metadata": {},
   "outputs": [
    {
     "name": "stdout",
     "output_type": "stream",
     "text": [
<<<<<<< Updated upstream
      "[65 48 81]\n",
      "[96  8 69]\n",
=======
      "[ 7 87 18]\n",
      "[66 77  9]\n",
>>>>>>> Stashed changes
      "[51 92 14]\n",
      "[51 92 14]\n"
     ]
    }
   ],
   "source": [
    "r1 = nr.randint(0, 100, 3)\n",
    "r2 = nr.randint(0, 100, 3)\n",
    "nr.seed(42) # 可以固定随机序列\n",
    "r3 = nr.randint(0, 100, 3)\n",
    "nr.seed(42)\n",
    "r4 = nr.randint(0, 100, 3)\n",
    "\n",
    "print r1\n",
    "print r2\n",
    "print r3\n",
    "print r4"
   ]
  },
  {
   "cell_type": "markdown",
   "metadata": {},
   "source": [
    "### 求和、平均值、方差"
   ]
  },
  {
   "cell_type": "code",
<<<<<<< Updated upstream
   "execution_count": 7,
=======
   "execution_count": 8,
>>>>>>> Stashed changes
   "metadata": {},
   "outputs": [
    {
     "name": "stdout",
     "output_type": "stream",
     "text": [
      "[[6 3 7 4 6]\n",
      " [9 2 6 7 4]\n",
      " [3 7 7 2 5]\n",
      " [4 1 7 5 1]]\n",
      "[26 28 24 18]\n",
      "[22 13 27 18 16]\n"
     ]
    }
   ],
   "source": [
    "np.random.seed(42)\n",
    "a = np.random.randint(0, 10, size=(4,5))\n",
    "print a\n",
    "print np.sum(a, axis=1) # 按轴求和\n",
    "print np.sum(a, axis=0)"
   ]
  },
  {
   "cell_type": "code",
<<<<<<< Updated upstream
   "execution_count": 8,
=======
   "execution_count": 9,
>>>>>>> Stashed changes
   "metadata": {},
   "outputs": [
    {
     "name": "stdout",
     "output_type": "stream",
     "text": [
      "[[[ 1.  1.  1.  1.]\n",
      "  [ 1.  1.  1.  1.]\n",
      "  [ 1.  1.  1.  1.]]\n",
      "\n",
      " [[ 1.  1.  1.  1.]\n",
      "  [ 1.  1.  1.  1.]\n",
      "  [ 1.  1.  1.  1.]]]\n",
      "[ 8.  8.  8.]\n"
     ]
    }
   ],
   "source": [
    "print np.ones((2,3,4))\n",
    "print np.sum(np.ones((2,3,4)), axis=(0,2)) # 按轴求和"
   ]
  },
  {
   "cell_type": "code",
<<<<<<< Updated upstream
   "execution_count": 9,
=======
   "execution_count": 10,
>>>>>>> Stashed changes
   "metadata": {},
   "outputs": [
    {
     "name": "stdout",
     "output_type": "stream",
     "text": [
      "[[26]\n",
      " [28]\n",
      " [24]\n",
      " [18]]\n",
      "[[22 13 27 18 16]]\n"
     ]
    }
   ],
   "source": [
    "print np.sum(a, 1, keepdims=True) # 保持原数组维数\n",
    "print np.sum(a, 0, keepdims=True)"
   ]
  },
  {
   "cell_type": "code",
<<<<<<< Updated upstream
   "execution_count": 10,
=======
   "execution_count": 11,
>>>>>>> Stashed changes
   "metadata": {},
   "outputs": [
    {
     "name": "stdout",
     "output_type": "stream",
     "text": [
      "[[ 23.08  11.54  26.92  15.38  23.08]\n",
      " [ 32.14   7.14  21.43  25.    14.29]\n",
      " [ 12.5   29.17  29.17   8.33  20.83]\n",
      " [ 22.22   5.56  38.89  27.78   5.56]]\n"
     ]
    }
   ],
   "source": [
    "pa = a / np.sum(a, 1, dtype=float, keepdims=True) * 100\n",
    "print pa"
   ]
  },
  {
   "cell_type": "code",
<<<<<<< Updated upstream
   "execution_count": 11,
=======
   "execution_count": 12,
>>>>>>> Stashed changes
   "metadata": {},
   "outputs": [
    {
     "data": {
      "text/plain": [
       "array([ 1.10000002,  1.10000002,  1.10000002, ...,  1.10000002,\n",
       "        1.10000002,  1.10000002], dtype=float32)"
      ]
     },
<<<<<<< Updated upstream
     "execution_count": 11,
=======
     "execution_count": 12,
>>>>>>> Stashed changes
     "metadata": {},
     "output_type": "execute_result"
    }
   ],
   "source": [
    "np.set_printoptions(precision=8)\n",
    "b = np.full(1000000, 1.1, dtype=np.float32)\n",
    "b"
   ]
  },
  {
   "cell_type": "code",
<<<<<<< Updated upstream
   "execution_count": 12,
=======
   "execution_count": 13,
>>>>>>> Stashed changes
   "metadata": {},
   "outputs": [
    {
     "name": "stdout",
     "output_type": "stream",
     "text": [
      "1.1e+06\n",
      "1100000.02384\n"
     ]
    }
   ],
   "source": [
    "print np.sum(b)\n",
    "print np.sum(b, dtype=np.double)"
   ]
  },
  {
   "cell_type": "code",
<<<<<<< Updated upstream
   "execution_count": 13,
=======
   "execution_count": 14,
>>>>>>> Stashed changes
   "metadata": {},
   "outputs": [
    {
     "data": {
      "text/plain": [
       "array([ 5.2,  5.6,  4.8,  3.6])"
      ]
     },
<<<<<<< Updated upstream
     "execution_count": 13,
=======
     "execution_count": 14,
>>>>>>> Stashed changes
     "metadata": {},
     "output_type": "execute_result"
    }
   ],
   "source": [
    "np.mean(a, axis=1)"
   ]
  },
  {
   "cell_type": "code",
<<<<<<< Updated upstream
   "execution_count": 14,
=======
   "execution_count": 15,
>>>>>>> Stashed changes
   "metadata": {},
   "outputs": [
    {
     "name": "stdout",
     "output_type": "stream",
     "text": [
      "1.1\n",
      "1.10000002384\n"
     ]
    }
   ],
   "source": [
    "print np.mean(b)\n",
    "print np.mean(b, dtype=np.double)"
   ]
  },
  {
   "cell_type": "code",
<<<<<<< Updated upstream
   "execution_count": 15,
=======
   "execution_count": 16,
>>>>>>> Stashed changes
   "metadata": {},
   "outputs": [
    {
     "name": "stdout",
     "output_type": "stream",
     "text": [
      "78.6153846154\n"
     ]
    }
   ],
   "source": [
    "score = np.array([83, 72, 79])\n",
    "number = np.array([20, 15, 30])\n",
    "print np.average(score, weights=number)"
   ]
  },
  {
   "cell_type": "code",
<<<<<<< Updated upstream
   "execution_count": 16,
=======
   "execution_count": 17,
>>>>>>> Stashed changes
   "metadata": {
    "scrolled": true
   },
   "outputs": [
    {
     "name": "stdout",
     "output_type": "stream",
     "text": [
      "3.60085669068\n",
      "4.00095187854\n"
     ]
    }
   ],
   "source": [
    "a = nr.normal(0, 2.0, (100000, 10))\n",
    "v1 = np.var(a, axis=1, ddof=0) # biased\n",
    "v2 = np.var(a, axis=1, ddof=1) # unbiased\n",
    "print np.mean(v1)\n",
    "print np.mean(v2)"
   ]
  },
  {
   "cell_type": "markdown",
   "metadata": {},
   "source": [
    "偏样本方差：\n",
    "$$S^2_n=\\frac{1}{n}\\sum_{i=1}^n(y_i-\\overline{y})^2$$\n",
    "无偏样本方差：\n",
    "$$S^2_n=\\frac{1}{n-1}\\sum_{i=1}^n(y_i-\\overline{y})^2$$\n",
    "偏样本方差是正态分布随机变量的最大似然估计。\n",
    "正态分布的概率密度函数的定义如下，其中$\\mu$表示期望，$\\sigma^2$表示方差：\n",
    "$$f(x\\ |\\ \\mu,\\sigma^2)=\\frac{1}{\\sqrt{2\\pi\\sigma^2}}e^{-\\frac{(x-\\mu)^2}{2\\sigma^2}}$$\n",
    "最大似然估计就是找到一组参数使得下面的乘积最大，其中$x_i$为样本中的值：\n",
    "$$f(x_1)f(x_2){\\cdots}f(x_n)$$"
   ]
  },
  {
   "cell_type": "code",
<<<<<<< Updated upstream
   "execution_count": 17,
=======
   "execution_count": 18,
>>>>>>> Stashed changes
   "metadata": {},
   "outputs": [
    {
     "data": {
      "image/png": "iVBORw0KGgoAAAANSUhEUgAAAXcAAAEDCAYAAADOc0QpAAAABHNCSVQICAgIfAhkiAAAAAlwSFlz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\nDWm5K6WUG/p/dNiKrcVk10wAAAAASUVORK5CYII=\n",
      "text/plain": [
<<<<<<< Updated upstream
       "<matplotlib.figure.Figure at 0x46da670>"
=======
       "<matplotlib.figure.Figure at 0x103a56c10>"
>>>>>>> Stashed changes
      ]
     },
     "metadata": {},
     "output_type": "display_data"
    }
   ],
   "source": [
    "def normal_pdf(mean, var, x):\n",
    "    return 1 / np.sqrt(2 * np.pi * var) * np.exp(-(x - mean) ** 2 / (2 * var))\n",
    "\n",
    "nr.seed(42)\n",
    "data = nr.normal(0, 2.0, size=10)\n",
    "mean, var = np.mean(data), np.var(data) # 计算样本偏方差\n",
    "# print var\n",
    "var_range = np.linspace(max(var - 4, 0.1), var + 4, 100)\n",
    "# print var_range\n",
    "p = normal_pdf(mean, var_range[:, None], data)\n",
    "p = np.product(p, axis=1)\n",
    "# print p\n",
    "\n",
    "import pylab as pl\n",
    "pl.plot(var_range, p)\n",
    "pl.axvline(var, 0, 1, c=\"r\")\n",
    "pl.show()"
   ]
  },
  {
   "cell_type": "markdown",
   "metadata": {},
   "source": [
    "### 大小与排序"
   ]
  },
  {
   "cell_type": "code",
<<<<<<< Updated upstream
   "execution_count": 18,
=======
   "execution_count": 19,
>>>>>>> Stashed changes
   "metadata": {},
   "outputs": [
    {
     "data": {
      "text/plain": [
       "array([[2, 3, 5, 7],\n",
       "       [4, 4, 5, 7],\n",
       "       [6, 6, 6, 7]])"
      ]
     },
<<<<<<< Updated upstream
     "execution_count": 18,
=======
     "execution_count": 19,
>>>>>>> Stashed changes
     "metadata": {},
     "output_type": "execute_result"
    }
   ],
   "source": [
    "a = np.array([1, 3, 5, 7])\n",
    "b = np.array([2, 4, 6])\n",
    "np.maximum(a[None, :], b[:, None]) # 广播"
   ]
  },
  {
   "cell_type": "code",
<<<<<<< Updated upstream
   "execution_count": 19,
=======
   "execution_count": 20,
>>>>>>> Stashed changes
   "metadata": {},
   "outputs": [
    {
     "name": "stdout",
     "output_type": "stream",
     "text": [
      "[[6 3 7 4 6]\n",
      " [9 2 6 7 4]\n",
      " [3 7 7 2 5]\n",
      " [4 1 7 5 1]]\n",
      "5\n",
      "9\n",
      "9\n"
     ]
    }
   ],
   "source": [
    "np.random.seed(42)\n",
    "a = np.random.randint(0, 10, size=(4, 5))\n",
    "print a\n",
    "max_pos = np.argmax(a)\n",
    "print max_pos\n",
    "print a.ravel()[max_pos]\n",
    "print np.max(a)"
   ]
  },
  {
   "cell_type": "code",
<<<<<<< Updated upstream
   "execution_count": 20,
=======
   "execution_count": 21,
>>>>>>> Stashed changes
   "metadata": {},
   "outputs": [
    {
     "data": {
      "text/plain": [
       "(1, 0)"
      ]
     },
<<<<<<< Updated upstream
     "execution_count": 20,
=======
     "execution_count": 21,
>>>>>>> Stashed changes
     "metadata": {},
     "output_type": "execute_result"
    }
   ],
   "source": [
    "idx = np.unravel_index(max_pos, a.shape)\n",
    "idx"
   ]
  },
  {
   "cell_type": "code",
<<<<<<< Updated upstream
   "execution_count": 21,
=======
   "execution_count": 22,
>>>>>>> Stashed changes
   "metadata": {},
   "outputs": [
    {
     "name": "stdout",
     "output_type": "stream",
     "text": [
      "[2 0 1 2]\n",
      "[7 9 7 7]\n"
     ]
    }
   ],
   "source": [
    "idx = np.argmax(a, axis=1)\n",
    "print idx\n",
    "print a[np.arange(a.shape[0]), idx]"
   ]
  },
  {
   "cell_type": "code",
<<<<<<< Updated upstream
   "execution_count": 22,
=======
   "execution_count": 23,
>>>>>>> Stashed changes
   "metadata": {},
   "outputs": [
    {
     "name": "stdout",
     "output_type": "stream",
     "text": [
      "[[3 4 6 6 7]\n",
      " [2 4 6 7 9]\n",
      " [2 3 5 7 7]\n",
      " [1 1 4 5 7]]\n",
      "[[3 1 6 2 1]\n",
      " [4 2 7 4 4]\n",
      " [6 3 7 5 5]\n",
      " [9 7 7 7 6]]\n",
      "[1 1 2 2 3 3 4 4 4 5 5 6 6 6 7 7 7 7 7 9]\n"
     ]
    }
   ],
   "source": [
    "# sort()返回一个新数组，默认axis=-1，沿数组最终轴排序，axis=None表示现将数组扁平化后在排序。\n",
    "print np.sort(a)\n",
    "print np.sort(a, axis=0)\n",
    "print np.sort(a, axis=None)"
   ]
  },
  {
   "cell_type": "code",
<<<<<<< Updated upstream
   "execution_count": 23,
=======
   "execution_count": 24,
>>>>>>> Stashed changes
   "metadata": {},
   "outputs": [
    {
     "name": "stdout",
     "output_type": "stream",
     "text": [
      "[[1 3 0 4 2]\n",
      " [1 4 2 3 0]\n",
      " [3 0 4 1 2]\n",
      " [1 4 0 3 2]]\n",
      "[[2 3 1 2 3]\n",
      " [3 1 0 0 1]\n",
      " [0 0 2 3 2]\n",
      " [1 2 3 1 0]]\n"
     ]
    }
   ],
   "source": [
    "# argsort()返回数组的排序下标，参数axis的默认值为-1\n",
    "sort_axis1 = np.argsort(a)\n",
    "sort_axis0 = np.argsort(a, axis=0)\n",
    "print sort_axis1\n",
    "print sort_axis0"
   ]
  },
  {
   "cell_type": "code",
<<<<<<< Updated upstream
   "execution_count": 24,
=======
   "execution_count": 25,
>>>>>>> Stashed changes
   "metadata": {},
   "outputs": [
    {
     "name": "stdout",
     "output_type": "stream",
     "text": [
      "[2 3 1 4 0]\n",
      "[['li' 32]\n",
      " ['wang' 31]\n",
      " ['wang' 33]\n",
      " ['zhang' 36]\n",
      " ['zhang' 37]]\n"
     ]
    }
   ],
   "source": [
    "'''\n",
    "Given multiple sorting keys, which can be interpreted as columns in a spreadsheet, lexsort returns an array of \n",
    "integer indices that describes the sort order by multiple columns. The last key in the sequence is used for the \n",
    "primary sort order, the second-to-last key for the secondary sort order, and so on. The keys argument must be a \n",
    "sequence of objects that can be converted to arrays of the same shape. \n",
    "\n",
    "If a 2D array is provided for the keys argument, it’s rows are interpreted as the sorting keys and sorting is \n",
    "according to the last row, second last row etc.\n",
    "'''\n",
    "names = [\"zhang\", \"wang\", \"li\", \"wang\", \"zhang\"]\n",
    "ages = [37, 33, 32, 31, 36]\n",
    "idx = np.lexsort([ages, names])\n",
    "sorted_data = np.array(zip(names, ages), \"O\")[idx]\n",
    "print idx\n",
    "print sorted_data"
   ]
  },
  {
   "cell_type": "code",
<<<<<<< Updated upstream
   "execution_count": 25,
=======
   "execution_count": 26,
>>>>>>> Stashed changes
   "metadata": {},
   "outputs": [
    {
     "name": "stdout",
     "output_type": "stream",
     "text": [
      "[[4 0 9]\n",
      " [5 8 0]\n",
      " [9 2 6]\n",
      " [3 8 2]\n",
      " [4 2 6]]\n",
      "[[9 0 4]\n",
      " [0 8 5]\n",
      " [6 2 9]\n",
      " [2 8 3]\n",
      " [6 2 4]]\n",
      "[[9 0 6 2 6]\n",
      " [0 8 2 8 2]\n",
      " [4 5 9 3 4]]\n",
      "[3 0 4 1 2]\n",
      "[[3 8 2]\n",
      " [4 0 9]\n",
      " [4 2 6]\n",
      " [5 8 0]\n",
      " [9 2 6]]\n"
     ]
    }
   ],
   "source": [
    "b = np.random.randint(0, 10, (5, 3))\n",
    "print b\n",
    "print b[:, ::-1]\n",
    "print b[:, ::-1].T\n",
    "print np.lexsort(b[:, ::-1].T)\n",
    "print b[np.lexsort(b[:, ::-1].T)]"
   ]
  },
  {
   "cell_type": "code",
<<<<<<< Updated upstream
   "execution_count": 26,
=======
   "execution_count": 27,
>>>>>>> Stashed changes
   "metadata": {},
   "outputs": [
    {
     "name": "stdout",
     "output_type": "stream",
     "text": [
      "[15 23 25 37 47]\n",
      "[15 47 25 37 23]\n"
     ]
    }
   ],
   "source": [
    "r = np.random.randint(10, 1000000, 100000)\n",
    "print np.sort(r)[:5]\n",
    "print np.partition(r, 5)[:5]"
   ]
  },
  {
   "cell_type": "code",
<<<<<<< Updated upstream
   "execution_count": 27,
=======
   "execution_count": 28,
>>>>>>> Stashed changes
   "metadata": {},
   "outputs": [
    {
     "name": "stdout",
     "output_type": "stream",
     "text": [
<<<<<<< Updated upstream
      "100 loops, best of 3: 7.29 ms per loop\n",
      "1000 loops, best of 3: 574 µs per loop\n"
=======
      "100 loops, best of 3: 5.27 ms per loop\n",
      "1000 loops, best of 3: 315 µs per loop\n"
>>>>>>> Stashed changes
     ]
    }
   ],
   "source": [
    "%timeit np.sort(r)[:5]\n",
    "%timeit np.partition(r, 5)[:5]"
   ]
  },
  {
   "cell_type": "code",
<<<<<<< Updated upstream
   "execution_count": 28,
=======
   "execution_count": 29,
>>>>>>> Stashed changes
   "metadata": {},
   "outputs": [
    {
     "data": {
      "text/plain": [
       "array([ 1.00029686,  1.99473003,  2.9614485 ])"
      ]
     },
<<<<<<< Updated upstream
     "execution_count": 28,
=======
     "execution_count": 29,
>>>>>>> Stashed changes
     "metadata": {},
     "output_type": "execute_result"
    }
   ],
   "source": [
    "r = np.abs(np.random.randn(100000))\n",
    "np.percentile(r, [68.3, 95.4, 99.7])"
   ]
  },
  {
   "cell_type": "code",
<<<<<<< Updated upstream
   "execution_count": 29,
=======
   "execution_count": 30,
>>>>>>> Stashed changes
   "metadata": {},
   "outputs": [
    {
     "name": "stdout",
     "output_type": "stream",
     "text": [
      "[1 0 2 7 8 3]\n",
      "[0 3 1 7 7 6]\n"
     ]
    }
   ],
   "source": [
    "x = np.array([3, 5, 7, 1, 9, 8, 6, 10])\n",
    "y = np.array([2, 1, 5, 10, 100, 6])\n",
    "'''\n",
    "def get_index_searchsorted(x, y):\n",
    "    index = np.argsort(x)\n",
    "    sorted_x = x[index]\n",
    "    sorted_index = np.searchsorted(sroted_x, y)\n",
    "    yindex = np.take(index, sorted_index, mode=\"clip\")\n",
    "'''\n",
    "index = np.argsort(x)\n",
    "sorted_x = x[index]\n",
    "sorted_index = np.searchsorted(sorted_x, y)\n",
    "yindex = np.take(index, sorted_index, mode=\"clip\")\n",
    "print sorted_index\n",
    "print yindex"
   ]
  },
  {
   "cell_type": "markdown",
   "metadata": {
    "collapsed": true
   },
   "source": [
    "### 分段函数"
   ]
  },
  {
   "cell_type": "code",
   "execution_count": 31,
   "metadata": {},
   "outputs": [
    {
     "name": "stdout",
     "output_type": "stream",
     "text": [
      "[ 0.          0.00050005  0.0010001  ...,  0.          0.          0.        ]\n"
     ]
    }
   ],
   "source": [
    "def triangle_wave3(x, c, c0, hc):\n",
    "    x = x - x.astype(np.int)\n",
    "    return np.piecewise(x,\n",
    "        [x >= c, x < c0],\n",
    "        [0,\n",
    "        lambda x: x / c0 * hc,\n",
    "        lambda x: (c - x) / (c - c0) * hc])\n",
    "\n",
    "x = np.linspace(0, 2, 10000)\n",
    "y3 = triangle_wave3(x, 0.6, 0.4, 1.0)\n",
    "print y3"
   ]
  },
  {
   "cell_type": "markdown",
   "metadata": {},
   "source": [
    "### 多项式函数"
   ]
  },
  {
   "cell_type": "code",
   "execution_count": 36,
   "metadata": {
    "scrolled": true
   },
   "outputs": [
    {
     "name": "stdout",
     "output_type": "stream",
     "text": [
      "<class 'numpy.lib.polynomial.poly1d'>\n",
      "[ 1.        0.515625  0.125    -0.078125  0.      ]\n",
      "   3\n",
      "1 x - 2 x + 1\n"
     ]
    }
   ],
   "source": [
    "a = np.array([1.0, 0, -2, 1])\n",
    "p = np.poly1d(a)\n",
    "print type(p)\n",
    "print p(np.linspace(0, 1, 5))\n",
    "print p"
   ]
  },
  {
   "cell_type": "code",
   "execution_count": 37,
   "metadata": {},
   "outputs": [
    {
     "name": "stdout",
     "output_type": "stream",
     "text": [
      "degree 3: [-0.145   0.      0.9887 -0.    ]\n",
      "max error of order 3: 0.00894699376708\n",
      "degree 5: [ 0.0076  0.     -0.1658  0.      0.9998  0.    ]\n",
      "max error of order 5: 0.000157408614171\n",
      "degree 7: [-0.0002 -0.      0.0083  0.     -0.1667 -0.      1.      0.    ]\n",
      "max error of order 7: 1.52682557752e-06\n"
     ]
    }
   ],
   "source": [
    "np.set_printoptions(suppress=True, precision=4)\n",
    "\n",
    "x = np.linspace(-np.pi / 2, np.pi / 2, 1000)\n",
    "y = np.sin(x)\n",
    "\n",
    "for deg in [3, 5, 7]:\n",
    "    a = np.polyfit(x, y, deg)\n",
    "    error = np.abs(np.polyval(a, x) - y)\n",
    "    print \"degree {}: {}\".format(deg, a)\n",
    "    print \"max error of order %d:\" % deg, np.max(error)"
   ]
  },
  {
   "cell_type": "code",
   "execution_count": 39,
   "metadata": {},
   "outputs": [
    {
     "name": "stdout",
     "output_type": "stream",
     "text": [
      "poly([ 1. -2.  0.  1.])\n",
      "5.0\n"
     ]
    }
   ],
   "source": [
    "from numpy.polynomial import Polynomial, Chebyshev\n",
    "\n",
    "p = Polynomial([1, -2, 0, 1])\n",
    "print p\n",
    "print p(2.0)"
   ]
  },
  {
   "cell_type": "code",
   "execution_count": 40,
   "metadata": {},
   "outputs": [
    {
     "data": {
      "text/plain": [
       "Polynomial([-2.,  0.,  3.], [-1.,  1.], [-1.,  1.])"
      ]
     },
     "execution_count": 40,
     "metadata": {},
     "output_type": "execute_result"
    }
   ],
   "source": [
    "p.deriv()"
   ]
  },
  {
   "cell_type": "code",
   "execution_count": 31,
   "metadata": {},
   "outputs": [
    {
     "name": "stdout",
     "output_type": "stream",
     "text": [
      "[[1]\n",
      " [2]\n",
      " [3]]\n",
      "[[1 2 3]]\n"
     ]
    }
   ],
   "source": [
    "a = np.array([1, 2, 3])\n",
    "print a[:, None] \n",
    "print a[None, :]"
   ]
  },
  {
   "cell_type": "code",
   "execution_count": 33,
   "metadata": {},
   "outputs": [
    {
     "data": {
      "text/plain": [
       "14"
      ]
     },
     "execution_count": 33,
     "metadata": {},
     "output_type": "execute_result"
    }
   ],
   "source": [
    "np.dot(a, a)"
   ]
  },
  {
   "cell_type": "code",
   "execution_count": 34,
   "metadata": {},
   "outputs": [
    {
     "name": "stdout",
     "output_type": "stream",
     "text": [
      "[[[ 0  1]\n",
      "  [ 2  3]\n",
      "  [ 4  5]]\n",
      "\n",
      " [[ 6  7]\n",
      "  [ 8  9]\n",
      "  [10 11]]]\n",
      "[[[12 13 14]\n",
      "  [15 16 17]]\n",
      "\n",
      " [[18 19 20]\n",
      "  [21 22 23]]]\n",
      "[[[[ 15  16  17]\n",
      "   [ 21  22  23]]\n",
      "\n",
      "  [[ 69  74  79]\n",
      "   [ 99 104 109]]\n",
      "\n",
      "  [[123 132 141]\n",
      "   [177 186 195]]]\n",
      "\n",
      "\n",
      " [[[177 190 203]\n",
      "   [255 268 281]]\n",
      "\n",
      "  [[231 248 265]\n",
      "   [333 350 367]]\n",
      "\n",
      "  [[285 306 327]\n",
      "   [411 432 453]]]]\n",
      "(2, 3, 2, 3)\n"
     ]
    }
   ],
   "source": [
    "a = np.arange(12).reshape(2, 3, 2)\n",
    "b = np.arange(12, 24).reshape(2, 2, 3)\n",
    "c = np.dot(a, b)\n",
    "print a\n",
    "print b\n",
    "print c\n",
    "print c.shape"
   ]
  },
  {
   "cell_type": "code",
   "execution_count": 36,
   "metadata": {},
   "outputs": [
    {
     "name": "stdout",
     "output_type": "stream",
     "text": [
      "[[[ 0  1]\n",
      "  [ 2  3]\n",
      "  [ 4  5]]\n",
      "\n",
      " [[ 6  7]\n",
      "  [ 8  9]\n",
      "  [10 11]]]\n",
      "[[[12 13]\n",
      "  [14 15]\n",
      "  [16 17]]\n",
      "\n",
      " [[18 19]\n",
      "  [20 21]\n",
      "  [22 23]]]\n",
      "[[[[ 13  15  17]\n",
      "   [ 19  21  23]]\n",
      "\n",
      "  [[ 63  73  83]\n",
      "   [ 93 103 113]]\n",
      "\n",
      "  [[113 131 149]\n",
      "   [167 185 203]]]\n",
      "\n",
      "\n",
      " [[[163 189 215]\n",
      "   [241 267 293]]\n",
      "\n",
      "  [[213 247 281]\n",
      "   [315 349 383]]\n",
      "\n",
      "  [[263 305 347]\n",
      "   [389 431 473]]]]\n",
      "(2, 3, 2, 3)\n"
     ]
    }
   ],
   "source": [
    "a = np.arange(12).reshape(2, 3, 2)\n",
    "b = np.arange(12, 24). reshape(2, 3, 2)\n",
    "c = np.inner(a, b)\n",
    "print a\n",
    "print b\n",
    "print c\n",
    "print c.shape"
   ]
  },
  {
   "cell_type": "code",
   "execution_count": null,
   "metadata": {
    "collapsed": true
   },
   "outputs": [],
   "source": []
  }
 ],
 "metadata": {
  "kernelspec": {
   "display_name": "Python 2",
   "language": "python",
   "name": "python2"
  },
  "language_info": {
   "codemirror_mode": {
    "name": "ipython",
    "version": 2
   },
   "file_extension": ".py",
   "mimetype": "text/x-python",
   "name": "python",
   "nbconvert_exporter": "python",
   "pygments_lexer": "ipython2",
   "version": "2.7.13"
  }
 },
 "nbformat": 4,
 "nbformat_minor": 2
}
