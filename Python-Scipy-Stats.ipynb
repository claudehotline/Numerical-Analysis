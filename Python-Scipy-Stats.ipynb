{
 "cells": [
  {
   "cell_type": "code",
   "execution_count": 1,
   "metadata": {
    "scrolled": true,
    "slideshow": {
     "slide_type": "notes"
    }
   },
   "outputs": [
    {
     "data": {
      "text/plain": [
       "['genhalflogistic',\n",
       " 'triang',\n",
       " 'rayleigh',\n",
       " 'betaprime',\n",
       " 'foldnorm',\n",
       " 'genlogistic',\n",
       " 'gilbrat',\n",
       " 'genpareto',\n",
       " 'lognorm',\n",
       " 'anglit',\n",
       " 'truncnorm',\n",
       " 'expon',\n",
       " 'norm',\n",
       " 'nakagami',\n",
       " 'weibull_min',\n",
       " 'invgauss',\n",
       " 'logistic',\n",
       " 'ncx2',\n",
       " 'fisk',\n",
       " 'halfgennorm',\n",
       " 'tukeylambda',\n",
       " 'frechet_l',\n",
       " 'dgamma',\n",
       " 'pareto',\n",
       " 'halflogistic',\n",
       " 'semicircular',\n",
       " 'invweibull',\n",
       " 'ksone',\n",
       " 'mielke',\n",
       " 't',\n",
       " 'gengamma',\n",
       " 'johnsonsu',\n",
       " 'powernorm',\n",
       " 'powerlaw',\n",
       " 'burr',\n",
       " 'johnsonsb',\n",
       " 'beta',\n",
       " 'gamma',\n",
       " 'wald',\n",
       " 'ncf',\n",
       " 'arcsine',\n",
       " 'maxwell',\n",
       " 'gausshyper',\n",
       " 'rice',\n",
       " 'vonmises_line',\n",
       " 'loglaplace',\n",
       " 'exponweib',\n",
       " 'pearson3',\n",
       " 'chi',\n",
       " 'cosine',\n",
       " 'kstwobign',\n",
       " 'recipinvgauss',\n",
       " 'levy_stable',\n",
       " 'foldcauchy',\n",
       " 'wrapcauchy',\n",
       " 'truncexpon',\n",
       " 'genexpon',\n",
       " 'erlang',\n",
       " 'reciprocal',\n",
       " 'f',\n",
       " 'lomax',\n",
       " 'loggamma',\n",
       " 'invgamma',\n",
       " 'laplace',\n",
       " 'powerlognorm',\n",
       " 'vonmises',\n",
       " 'exponnorm',\n",
       " 'frechet_r',\n",
       " 'dweibull',\n",
       " 'rdist',\n",
       " 'gumbel_r',\n",
       " 'gompertz',\n",
       " 'halfcauchy',\n",
       " 'gennorm',\n",
       " 'exponpow',\n",
       " 'weibull_max',\n",
       " 'gumbel_l',\n",
       " 'halfnorm',\n",
       " 'levy',\n",
       " 'chi2',\n",
       " 'nct',\n",
       " 'uniform',\n",
       " 'fatiguelife',\n",
       " 'genextreme',\n",
       " 'alpha',\n",
       " 'hypsecant',\n",
       " 'bradford',\n",
       " 'cauchy',\n",
       " 'levy_l']"
      ]
     },
     "execution_count": 1,
     "metadata": {},
     "output_type": "execute_result"
    }
   ],
   "source": [
    "# -*- coding:utf-8 -*-\n",
    "from scipy import stats\n",
    "\n",
    "[k for k, v in stats.__dict__.items() if isinstance(v, stats.rv_continuous)]"
   ]
  },
  {
   "cell_type": "code",
   "execution_count": 2,
   "metadata": {},
   "outputs": [
    {
     "data": {
      "text/plain": [
       "(array(0.0), array(1.0))"
      ]
     },
     "execution_count": 2,
     "metadata": {},
     "output_type": "execute_result"
    }
   ],
   "source": [
    "stats.norm.stats()"
   ]
  },
  {
   "cell_type": "code",
   "execution_count": 3,
   "metadata": {},
   "outputs": [
    {
     "data": {
      "text/plain": [
       "(array(1.0), array(4.0))"
      ]
     },
     "execution_count": 3,
     "metadata": {},
     "output_type": "execute_result"
    }
   ],
   "source": [
    "X = stats.norm(loc=1.0, scale=2.0)\n",
    "X.stats()"
   ]
  },
  {
   "cell_type": "code",
   "execution_count": 4,
   "metadata": {},
   "outputs": [
    {
     "data": {
      "text/plain": [
       "(0.98681391744830615, 3.9835260865129283)"
      ]
     },
     "execution_count": 4,
     "metadata": {},
     "output_type": "execute_result"
    }
   ],
   "source": [
    "import numpy as np\n",
    "x = X.rvs(size=10000)\n",
    "np.mean(x), np.var(x)"
   ]
  },
  {
   "cell_type": "code",
   "execution_count": 5,
   "metadata": {},
   "outputs": [
    {
     "name": "stdout",
     "output_type": "stream",
     "text": [
      "8.08330825995 -6.67719209768\n",
      "(0.98681391744830615, 1.9958772724075315)\n"
     ]
    }
   ],
   "source": [
    "print np.max(x), np.min(x)\n",
    "print stats.norm.fit(x)"
   ]
  },
  {
   "cell_type": "code",
   "execution_count": 6,
   "metadata": {},
   "outputs": [
    {
     "name": "stdout",
     "output_type": "stream",
     "text": [
      "max pdf error: 0.0262731763845, max cdf error: 0.0171831569478\n"
     ]
    }
   ],
   "source": [
    "pdf, t = np.histogram(x, bins=100, normed=True)\n",
    "# print t\n",
    "t = (t[:-1] + t[1:]) * 0.5 # （从0到最后 + 从1到最后）/ 2 求每个区间的中点位置\n",
    "# print t\n",
    "cdf = np.cumsum(pdf) * (t[1] - t[0])\n",
    "p_error = pdf - X.pdf(t)\n",
    "c_error = cdf - X.cdf(t)\n",
    "print \"max pdf error: {}, max cdf error: {}\".format(np.abs(p_error).max(), np.abs(c_error).max())"
   ]
  },
  {
   "cell_type": "code",
   "execution_count": 7,
   "metadata": {},
   "outputs": [
    {
     "data": {
      "text/plain": [
       "array([1, 1, 1, 1, 2, 1, 1, 3, 1, 6, 4, 6, 4, 4, 3, 4, 2, 6, 6, 2])"
      ]
     },
     "execution_count": 7,
     "metadata": {},
     "output_type": "execute_result"
    }
   ],
   "source": [
    "x = range(1, 7)\n",
    "p = (0.4, 0.2, 0.1, 0.1, 0.1, 0.1)\n",
    "\n",
    "dice = stats.rv_discrete(values=(x, p))\n",
    "dice.rvs(size=20)"
   ]
  },
  {
   "cell_type": "code",
   "execution_count": 8,
   "metadata": {},
   "outputs": [
    {
     "name": "stdout",
     "output_type": "stream",
     "text": [
      "[ 2.32  2.64  2.56 ...,  2.46  2.96  2.68]\n",
      "(array(2.6), array(3.04))\n",
      "(2.6013379999999997, 0.248077185077548)\n"
     ]
    }
   ],
   "source": [
    "np.random.seed(42)\n",
    "samples = dice.rvs(size=(20000, 50))\n",
    "samples_mean = np.mean(samples, axis=1)\n",
    "print samples_mean\n",
    "print dice.stats()\n",
    "print stats.norm.fit(samples_mean) # 期望为μ，方差为σ/n"
   ]
  },
  {
   "cell_type": "code",
   "execution_count": 9,
   "metadata": {},
   "outputs": [
    {
     "data": {
      "image/png": "[encoded data removed]",
      "text/plain": [
       "<matplotlib.figure.Figure at 0x9dc9770>"
      ]
     },
     "metadata": {},
     "output_type": "display_data"
    }
   ],
   "source": [
    "#coding:utf-8\n",
    "import matplotlib.pyplot as pl\n",
    "\n",
    "pl.rcParams['font.sans-serif']=['SimHei']\n",
    "pl.rcParams['axes.unicode_minus']=False\n",
    "\n",
    "_, bins, step = pl.hist(samples_mean, bins=100, normed=True, histtype=\"step\", label=u\"直方图统计\")\n",
    "kde = stats.kde.gaussian_kde(samples_mean)\n",
    "x = np.linspace(bins[0], bins[-1], 100)\n",
    "pl.plot(x, kde(x), label=u\"核密度估计\")\n",
    "mean, std = stats.norm.fit(samples_mean)\n",
    "pl.plot(x, stats.norm(mean, std).pdf(x), alpha=0.8, label=u\"正态分布拟合\")\n",
    "pl.legend()\n",
    "pl.show()"
   ]
  },
  {
   "cell_type": "code",
   "execution_count": 10,
   "metadata": {},
   "outputs": [
    {
     "data": {
      "image/png": "[encoded data removed]",
      "text/plain": [
       "<matplotlib.figure.Figure at 0x9f8e590>"
      ]
     },
     "metadata": {},
     "output_type": "display_data"
    }
   ],
   "source": [
    "for bw in [0.2, 0.3, 0.6, 1.0]:\n",
    "    kde = stats.gaussian_kde([-1, 0, 1], bw_method=bw)\n",
    "    x = np.linspace(-5, 5, 1000)\n",
    "    y = kde(x)\n",
    "    pl.plot(x, y, lw=2, label=\"bw={}\".format(bw), alpha=0.6)\n",
    "pl.legend(loc=\"best\")\n",
    "pl.show()"
   ]
  },
  {
   "cell_type": "code",
   "execution_count": 11,
   "metadata": {},
   "outputs": [
    {
     "name": "stdout",
     "output_type": "stream",
     "text": [
      "time=1000, max_error=0.019642302016\n",
      "time=50000, max_error=0.00179801289496\n"
     ]
    }
   ],
   "source": [
    "np.random.seed(42)\n",
    "\n",
    "def sim_poisson(lambda_, time):\n",
    "    t = np.random.uniform(0, time, size=lambda_ * time)\n",
    "    count, time_edges = np.histogram(t, bins=time, range=(0, time))\n",
    "    dist, count_edges = np.histogram(count, bins=20, range=(0, 20), density=True)\n",
    "    x = count_edges[:-1]\n",
    "    poisson = stats.poisson.pmf(x, lambda_)\n",
    "    return x, poisson, dist\n",
    "\n",
    "lambda_ = 10\n",
    "times = 1000, 50000\n",
    "x1, poisson1, dist1 = sim_poisson(lambda_, times[0])\n",
    "x2, poisson2, dist2 = sim_poisson(lambda_, times[1])\n",
    "max_error1 = np.max(np.abs(dist1 - poisson1))\n",
    "max_error2 = np.max(np.abs(dist2 - poisson2))\n",
    "print \"time={}, max_error={}\".format(times[0], max_error1)\n",
    "print \"time={}, max_error={}\".format(times[1], max_error2)"
   ]
  },
  {
   "cell_type": "code",
   "execution_count": 12,
   "metadata": {},
   "outputs": [
    {
     "data": {
      "text/plain": [
       "201.94534998587028"
      ]
     },
     "execution_count": 12,
     "metadata": {},
     "output_type": "execute_result"
    }
   ],
   "source": [
    "T = 100000 # 模拟的总时间\n",
    "A_count = T / 5  # T时间内公交车A到达站点S的次数\n",
    "B_count = T / 10 # T时间内公交车B到达站点S的次数\n",
    "\n",
    "# 使用均匀分布模拟公交车到达S站点的时刻\n",
    "A_time = np.random.uniform(0, T, A_count) \n",
    "B_time = np.random.uniform(0, T, B_count)\n",
    "\n",
    "# 合并A、B公交车到达S的时刻并排序\n",
    "bus_time = np.concatenate((A_time, B_time))\n",
    "bus_time.sort()\n",
    "\n",
    "N = 200000 # 到达S站点乘客的数量\n",
    "# 使用均匀分布模拟在第一辆和最后一辆公交车到达S的两个时刻之间N个乘客到达S时的时刻\n",
    "passenger_time = np.random.uniform(bus_time[0], bus_time[-1], N)\n",
    "\n",
    "# np.searchsorted(a, v, side='left', sorter=None)\n",
    "# Find the indices into a sorted array a such that,\n",
    "# if the corresponding elements in v were inserted \n",
    "# before the indices, the order of a would be preserved.\n",
    "# 返回passenger_time数组中的每个元素应该插入在bus_time数组中那个元素的左边，返回bus_time\n",
    "# 数组中对应元素的索引坐标数组，该数组大小与passsenger_time数组大小相同。\n",
    "idx = np.searchsorted(bus_time, passenger_time)\n",
    "np.mean(bus_time[idx] - passenger_time) * 60"
   ]
  },
  {
   "cell_type": "code",
   "execution_count": 13,
   "metadata": {},
   "outputs": [
    {
     "data": {
      "text/plain": [
       "200.0"
      ]
     },
     "execution_count": 13,
     "metadata": {},
     "output_type": "execute_result"
    }
   ],
   "source": [
    "from scipy import integrate\n",
    "\n",
    "t = 10.0 / 3\n",
    "bus_interval = stats.gamma(1, scale=t)\n",
    "n, _ = integrate.quad(lambda x: 0.5 * x * x * bus_interval.pdf(x), 0, 1000)\n",
    "d, _ = integrate.quad(lambda x: x * bus_interval.pdf(x), 0, 1000)\n",
    "n / d * 60"
   ]
  },
  {
   "cell_type": "code",
   "execution_count": 18,
   "metadata": {},
   "outputs": [
    {
     "name": "stdout",
     "output_type": "stream",
     "text": [
      "(100000,)\n",
      "max error: 0.00633105460153\n"
     ]
    }
   ],
   "source": [
    "mu = 0.0\n",
    "n = 10\n",
    "samples = stats.norm(mu).rvs(size=(100000, n))\n",
    "t_samples = (np.mean(samples, axis=1) - mu) / np.std(samples, ddof=1, axis=1) * n**0.5\n",
    "print t_samples.shape\n",
    "sample_dist, x = np.histogram(t_samples, bins=100, density=True)\n",
    "x = 0.5 * (x[:-1] + x[1:])\n",
    "t_dist = stats.t(n-1).pdf(x)\n",
    "print \"max error:\", np.max(np.abs(sample_dist - t_dist))"
   ]
  },
  {
   "cell_type": "markdown",
   "metadata": {},
   "source": [
    "### 显著水平\n",
    "$Pr(c1\\le\\mu{\\le}c2)=1-\\alpha$"
   ]
  },
  {
   "cell_type": "code",
   "execution_count": 20,
   "metadata": {},
   "outputs": [
    {
     "name": "stdout",
     "output_type": "stream",
     "text": [
      "2.65858434088 Ttest_1sampResult(statistic=2.6585843408822241, pvalue=0.012637702257091229)\n"
     ]
    }
   ],
   "source": [
    "n = 30\n",
    "np.random.seed(42)\n",
    "s = stats.norm.rvs(loc=1, scale=0.8, size=n)\n",
    "\n",
    "t = (np.mean(s) - 0.5) / (np.std(s, ddof=1) / np.sqrt(n))\n",
    "print t, stats.ttest_1samp(s, 0.5)"
   ]
  },
  {
   "cell_type": "code",
   "execution_count": 22,
   "metadata": {},
   "outputs": [
    {
     "data": {
      "image/png": "[encoded data removed]",
      "text/plain": [
       "<matplotlib.figure.Figure at 0xa58d1f0>"
      ]
     },
     "metadata": {},
     "output_type": "display_data"
    }
   ],
   "source": [
    "x = np.linspace(-5, 5, 500)\n",
    "y = stats.t(n-1).pdf(x)\n",
    "pl.plot(x, y, lw=2)\n",
    "t, p = stats.ttest_1samp(s, 0.5)\n",
    "mask = x > np.abs(t)\n",
    "pl.fill_between(x[mask], y[mask], color=\"red\", alpha=0.5)\n",
    "mask = x < -np.abs(t)\n",
    "pl.fill_between(x[mask], y[mask], color=\"red\", alpha=0.5)\n",
    "pl.axhline(color=\"k\", lw=0.5)\n",
    "pl.xlim(-5, 5)\n",
    "pl.show()"
   ]
  },
  {
   "cell_type": "code",
   "execution_count": null,
   "metadata": {
    "collapsed": true
   },
   "outputs": [],
   "source": []
  }
 ],
 "metadata": {
  "kernelspec": {
   "display_name": "Python 2",
   "language": "python",
   "name": "python2"
  },
  "language_info": {
   "codemirror_mode": {
    "name": "ipython",
    "version": 2
   },
   "file_extension": ".py",
   "mimetype": "text/x-python",
   "name": "python",
   "nbconvert_exporter": "python",
   "pygments_lexer": "ipython2",
   "version": "2.7.13"
  }
 },
 "nbformat": 4,
 "nbformat_minor": 2
}
