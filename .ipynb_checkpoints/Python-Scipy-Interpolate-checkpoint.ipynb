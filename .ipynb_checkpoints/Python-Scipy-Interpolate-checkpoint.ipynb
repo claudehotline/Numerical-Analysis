{
 "cells": [
  {
   "cell_type": "code",
   "execution_count": null,
   "metadata": {
    "collapsed": true
   },
   "outputs": [],
   "source": [
    "x = [0, 1, 2, 3, 4, 5]\n",
    "y = [1, 2, 1.5, 2.5, 3, 2.5]\n",
    "\n",
    "xs = np.linspace(x[0], x[-1], 100)\n",
    "curve = interpolate.pchip(x, y)\n",
    "ys = curve(xs)\n",
    "dys = curve.derivative(xs)\n",
    "pl.plot(xs, ys, label=u\"pchip\")\n",
    "pl.plot(xs, dys, label=u\"一阶导数\")\n",
    "pl.plot(x, y, \"o\")\n",
    "pl.legend(loc=\"best\")\n",
    "pl.grid()\n",
    "pl.margins(0.1, 0.1)\n",
    "pl.show()"
   ]
  }
 ],
 "metadata": {
  "kernelspec": {
   "display_name": "Python 2",
   "language": "python",
   "name": "python2"
  },
  "language_info": {
   "codemirror_mode": {
    "name": "ipython",
    "version": 2
   },
   "file_extension": ".py",
   "mimetype": "text/x-python",
   "name": "python",
   "nbconvert_exporter": "python",
   "pygments_lexer": "ipython2",
   "version": "2.7.11"
  }
 },
 "nbformat": 4,
 "nbformat_minor": 2
}
