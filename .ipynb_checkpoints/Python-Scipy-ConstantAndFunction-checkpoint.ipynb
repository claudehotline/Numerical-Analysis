{
 "cells": [
  {
   "cell_type": "code",
   "execution_count": 9,
   "metadata": {
    "collapsed": true
   },
   "outputs": [],
   "source": [
    "from scipy import constants as C"
   ]
  },
  {
   "cell_type": "code",
   "execution_count": 10,
   "metadata": {},
   "outputs": [
    {
     "name": "stdout",
     "output_type": "stream",
     "text": [
      "299792458.0\n",
      "6.62607004e-34\n"
     ]
    }
   ],
   "source": [
    "print C.c\n",
    "print C.h"
   ]
  },
  {
   "cell_type": "code",
   "execution_count": 11,
   "metadata": {},
   "outputs": [
    {
     "data": {
      "text/plain": [
       "(9.10938356e-31, 'kg', 1.1e-38)"
      ]
     },
     "execution_count": 11,
     "metadata": {},
     "output_type": "execute_result"
    }
   ],
   "source": [
    "C.physical_constants[\"electron mass\"]"
   ]
  },
  {
   "cell_type": "code",
   "execution_count": 12,
   "metadata": {},
   "outputs": [
    {
     "name": "stdout",
     "output_type": "stream",
     "text": [
      "6.0\n",
      "1.77245385091\n",
      "(0.498015668118-0.154949828302j)\n",
      "inf\n"
     ]
    }
   ],
   "source": [
    "import scipy.special as S\n",
    "print S.gamma(4)\n",
    "print S.gamma(0.5)\n",
    "print S.gamma(1+1j)\n",
    "print S.gamma(1000)"
   ]
  },
  {
   "cell_type": "code",
   "execution_count": 13,
   "metadata": {},
   "outputs": [
    {
     "name": "stdout",
     "output_type": "stream",
     "text": [
      "[-0.70622057 -0.6        -2.5       ]\n",
      "[0.0, -9.126033262418787e-14, 5.329070518200751e-15]\n"
     ]
    }
   ],
   "source": [
    "from math import sin, cos\n",
    "from scipy import optimize\n",
    "\n",
    "def f(x):\n",
    "    x0, x1, x2 = x.tolist()\n",
    "    return [\n",
    "        5*x1+3,\n",
    "        4*x0*x0-2*sin(x1*x2),\n",
    "        x1*x2-1.5\n",
    "    ]\n",
    "\n",
    "def j(x):\n",
    "    x0, x1, x2 = x.tolist()\n",
    "    return [\n",
    "        [0, 5, 0],\n",
    "        [8*x0, -2*x2*cos(x1*x2), -2*x1*cos(x1*x2)],\n",
    "        [0, x2, x1]\n",
    "    ]\n",
    "\n",
    "result = optimize.fsolve(f, [1,1,1], fprime=j)\n",
    "print result\n",
    "print f(result)"
   ]
  },
  {
   "cell_type": "code",
   "execution_count": 14,
   "metadata": {},
   "outputs": [
    {
     "name": "stdout",
     "output_type": "stream",
     "text": [
      "(array([ 0.61349535,  1.79409254]), 1)\n",
      "k =  0.613495349193 b =  1.79409254326\n"
     ]
    }
   ],
   "source": [
    "import numpy as np\n",
    "from scipy import optimize\n",
    "\n",
    "X = np.array([ 8.19, 2.72, 6.39, 8.71, 4.7, 2.66, 3.78])\n",
    "Y = np.array([7.01, 2.78, 6.47, 6.71, 4.1, 4.23, 4.05])\n",
    "\n",
    "def residuals(p):\n",
    "    k, b = p\n",
    "    return Y - (k*X + b)\n",
    "\n",
    "r = optimize.leastsq(residuals, [1, 0])\n",
    "k, b = r[0]\n",
    "print r\n",
    "print \"k = \", k, \"b = \", b"
   ]
  },
  {
   "cell_type": "code",
   "execution_count": 15,
   "metadata": {
    "scrolled": true
   },
   "outputs": [
    {
     "name": "stdout",
     "output_type": "stream",
     "text": [
      "真实参数： [10, 0.34, 0.5235987755982988]\n",
      "拟合参数： [ 10.25218748   0.3423992    0.50817422]\n"
     ]
    },
    {
     "data": {
      "image/png": "[encoded data removed]",
      "text/plain": [
       "<matplotlib.figure.Figure at 0x110fd52d0>"
      ]
     },
     "metadata": {},
     "output_type": "display_data"
    }
   ],
   "source": [
    "import matplotlib.pyplot as pl\n",
    "\n",
    "def func(x, p):\n",
    "    \"\"\"\n",
    "    数据拟合所用的函数：A*sin(2*pi*k*x + theta)\n",
    "    \"\"\"\n",
    "    A, k, theta = p\n",
    "    return A*np.sin(2*np.pi*k*x+theta)\n",
    "\n",
    "def residuals(p, y, x):\n",
    "    \"\"\"\n",
    "    实验数据x，y和拟合函数之间的差，p为拟合需要找到的系数\n",
    "    \"\"\"\n",
    "    return y - func(x, p)\n",
    "\n",
    "x = np.linspace(0, 2*np.pi, 100)\n",
    "A, k, theta = 10, 0.34, np.pi/6 # 真实数据的函数参数\n",
    "y0 = func(x, [A, k, theta]) # 真实数据\n",
    "# 加入噪声之后的实验数据\n",
    "np.random.seed(0)\n",
    "y1 = y0 + 2*np.random.randn(len(x))\n",
    "p0 = [7, 0.40, 0]\n",
    "\n",
    "plsq = optimize.leastsq(residuals, p0, args=(y1, x))\n",
    "\n",
    "print u\"真实参数：\", [A, k, theta]\n",
    "print u\"拟合参数：\", plsq[0]\n",
    "\n",
    "pl.plot(x, y1, \"o\", label=u\"带噪声的实验数据\")\n",
    "pl.plot(x, y0, label=u\"真实数据\")\n",
    "pl.plot(x, func(x, plsq[0]), label=u\"拟合数据\")\n",
    "pl.legend(loc=\"best\")\n",
    "pl.show()"
   ]
  },
  {
   "cell_type": "markdown",
   "metadata": {
    "collapsed": true
   },
   "source": [
    "Newton-CG算法需要计算海森矩阵，它是由一个自由变量为向量的实值函数的二阶偏导数构成的方块矩阵，对于函数$f(x_1,x_2,\\cdots,x_n)$，其海森矩阵的定义如下：\n",
    "\\begin{bmatrix}\n",
    "    \\frac{\\partial^2 f}{\\partial x_1^2} & \\frac{\\partial^2 f}{\\partial x_1 \\partial x_2} & \\cdots & \\frac{\\partial^2 f}{\\partial x_1 \\partial x_n} \n",
    "    \\\\\n",
    "    \\frac{\\partial^2 f}{\\partial x_1 \\partial x_2} & \\frac{\\partial^2 f}{\\partial x_2^2} & \\cdots & \\frac{\\partial^2 f}{\\partial x_2 \\partial x_n}\n",
    "    \\\\\n",
    "    \\vdots & \\vdots & \\vdots & \\vdots\n",
    "    \\\\\n",
    "    \\frac{\\partial^2 f}{\\partial x_1 \\partial x_n} & \\frac{\\partial^2 f}{\\partial x_2 \\partial x_n} & \\cdots & \\frac{\\partial^2 f}{\\partial x_n^2}\n",
    "\\end{bmatrix}"
   ]
  },
  {
   "cell_type": "code",
   "execution_count": 16,
   "metadata": {
    "collapsed": true
   },
   "outputs": [],
   "source": [
    "def target_function(x, y):\n",
    "    return (1-x)**2+100*(y-x**2)**2\n",
    "\n",
    "class TargetFunction(object):\n",
    "    \n",
    "    def __init__(self):\n",
    "        self.f_points = []\n",
    "        self.fprime_points = []\n",
    "        self.fhess_points = []\n",
    "        \n",
    "    def f(self, p):\n",
    "        x, y = p.tolist()\n",
    "        z = target_function(x, y)\n",
    "        self.f_points.append((x, y))\n",
    "        return z\n",
    "    \n",
    "    def fprime(self, p):\n",
    "        x, y = p.tolist()\n",
    "        self.fprime_points.append((x,y))\n",
    "        dx = -2 + 2*x - 400*x*(y - x**2)\n",
    "        dy = 200*y - 200*x**2\n",
    "        return np.array([dx, dy])\n",
    "    \n",
    "    def fhess(self, p):\n",
    "        x, y = p.tolist()\n",
    "        self.fhess_points.append((x, y))\n",
    "        return np.array([[2*(600*x**2 - 200*y + 1), -400*x], [-400*x, 200]])\n",
    "    \n",
    "def fmin_demo(method):\n",
    "    target = TargetFunction()\n",
    "    init_point = (-1, -1)\n",
    "    res = optimize.minimize(target.f, init_point, method=method, jac=target.fprime, hess=target.fhess)\n",
    "    return res, [np.array(points) for points in (target.f_points, target.fprime_points, target.fhess_points)]\n",
    "    \n",
    "methods = (\"Nelder-Mead\", \"Powell\", \"GC\", \"BFGS\", \"Newton-CG\", \"L-BFGS-B\")\n",
    "for method in methods:\n",
    "    res, (f_points, fprime_points, fhess_points) = fmin_demo(method)\n",
    "    print \"{:12s}: min={:12g}, f count={:3d}, fprime count={:3d}, \"\n",
    "          \"fhess count={:3d}\".format(method, float(res[\"fun\"]), len(f_points), len(fprime_points), len(fhess_points))\n",
    "        \n",
    "        "
   ]
  }
 ],
 "metadata": {
  "kernelspec": {
   "display_name": "Python 2",
   "language": "python",
   "name": "python2"
  },
  "language_info": {
   "codemirror_mode": {
    "name": "ipython",
    "version": 2
   },
   "file_extension": ".py",
   "mimetype": "text/x-python",
   "name": "python",
   "nbconvert_exporter": "python",
   "pygments_lexer": "ipython2",
   "version": "2.7.11"
  }
 },
 "nbformat": 4,
 "nbformat_minor": 2
}
