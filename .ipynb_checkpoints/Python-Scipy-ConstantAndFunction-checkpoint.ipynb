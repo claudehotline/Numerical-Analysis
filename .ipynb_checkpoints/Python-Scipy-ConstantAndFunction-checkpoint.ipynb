{
 "cells": [
  {
   "cell_type": "code",
   "execution_count": 1,
   "metadata": {
    "collapsed": true
   },
   "outputs": [],
   "source": [
    "from scipy import constants as C"
   ]
  },
  {
   "cell_type": "code",
   "execution_count": 2,
   "metadata": {},
   "outputs": [
    {
     "name": "stdout",
     "output_type": "stream",
     "text": [
      "299792458.0\n",
      "6.62606957e-34\n"
     ]
    }
   ],
   "source": [
    "print C.c\n",
    "print C.h"
   ]
  },
  {
   "cell_type": "code",
   "execution_count": 4,
   "metadata": {},
   "outputs": [
    {
     "data": {
      "text/plain": [
       "(9.10938291e-31, 'kg', 4e-38)"
      ]
     },
     "execution_count": 4,
     "metadata": {},
     "output_type": "execute_result"
    }
   ],
   "source": [
    "C.physical_constants[\"electron mass\"]"
   ]
  },
  {
   "cell_type": "code",
   "execution_count": 6,
   "metadata": {},
   "outputs": [
    {
     "name": "stdout",
     "output_type": "stream",
     "text": [
      "6.0\n",
      "1.77245385091\n",
      "(0.498015668118-0.154949828302j)\n",
      "inf\n"
     ]
    }
   ],
   "source": [
    "import scipy.special as S\n",
    "print S.gamma(4)\n",
    "print S.gamma(0.5)\n",
    "print S.gamma(1+1j)\n",
    "print S.gamma(1000)"
   ]
  },
  {
   "cell_type": "code",
   "execution_count": 10,
   "metadata": {},
   "outputs": [
    {
     "name": "stdout",
     "output_type": "stream",
     "text": [
      "[-0.70622057 -0.6        -2.5       ]\n",
      "[0.0, -9.126033262418787e-14, 5.329070518200751e-15]\n"
     ]
    }
   ],
   "source": [
    "from math import sin, cos\n",
    "from scipy import optimize\n",
    "\n",
    "def f(x):\n",
    "    x0, x1, x2 = x.tolist()\n",
    "    return [\n",
    "        5*x1+3,\n",
    "        4*x0*x0-2*sin(x1*x2),\n",
    "        x1*x2-1.5\n",
    "    ]\n",
    "\n",
    "def j(x):\n",
    "    x0, x1, x2 = x.tolist()\n",
    "    return [\n",
    "        [0, 5, 0],\n",
    "        [8*x0, -2*x2*cos(x1*x2), -2*x1*cos(x1*x2)],\n",
    "        [0, x2, x1]\n",
    "    ]\n",
    "\n",
    "result = optimize.fsolve(f, [1,1,1], fprime=j)\n",
    "print result\n",
    "print f(result)"
   ]
  },
  {
   "cell_type": "code",
   "execution_count": 14,
   "metadata": {},
   "outputs": [
    {
     "name": "stdout",
     "output_type": "stream",
     "text": [
      "(array([ 0.61349535,  1.79409254]), 1)\n",
      "k =  0.613495349193 b =  1.79409254326\n"
     ]
    }
   ],
   "source": [
    "import numpy as np\n",
    "from scipy import optimize\n",
    "\n",
    "X = np.array([ 8.19, 2.72, 6.39, 8.71, 4.7, 2.66, 3.78])\n",
    "Y = np.array([7.01, 2.78, 6.47, 6.71, 4.1, 4.23, 4.05])\n",
    "\n",
    "def residuals(p):\n",
    "    k, b = p\n",
    "    return Y - (k*X + b)\n",
    "\n",
    "r = optimize.leastsq(residuals, [1, 0])\n",
    "k, b = r[0]\n",
    "print r\n",
    "print \"k = \", k, \"b = \", b"
   ]
  },
  {
   "cell_type": "code",
   "execution_count": null,
   "metadata": {
    "collapsed": true
   },
   "outputs": [],
   "source": []
  }
 ],
 "metadata": {
  "kernelspec": {
   "display_name": "Python 2",
   "language": "python",
   "name": "python2"
  },
  "language_info": {
   "codemirror_mode": {
    "name": "ipython",
    "version": 2
   },
   "file_extension": ".py",
   "mimetype": "text/x-python",
   "name": "python",
   "nbconvert_exporter": "python",
   "pygments_lexer": "ipython2",
   "version": "2.7.13"
  }
 },
 "nbformat": 4,
 "nbformat_minor": 2
}
