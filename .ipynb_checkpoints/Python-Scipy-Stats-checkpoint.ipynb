{
 "cells": [
  {
   "cell_type": "code",
   "execution_count": 1,
   "metadata": {
    "scrolled": true,
    "slideshow": {
     "slide_type": "notes"
    }
   },
   "outputs": [
    {
     "data": {
      "text/plain": [
       "['genhalflogistic',\n",
       " 'triang',\n",
       " 'rayleigh',\n",
       " 'betaprime',\n",
       " 'foldnorm',\n",
       " 'genlogistic',\n",
       " 'gilbrat',\n",
       " 'genpareto',\n",
       " 'lognorm',\n",
       " 'anglit',\n",
       " 'truncnorm',\n",
       " 'expon',\n",
       " 'norm',\n",
       " 'nakagami',\n",
       " 'weibull_min',\n",
       " 'invgauss',\n",
       " 'logistic',\n",
       " 'ncx2',\n",
       " 'fisk',\n",
       " 'halfgennorm',\n",
       " 'tukeylambda',\n",
       " 'frechet_l',\n",
       " 'dgamma',\n",
       " 'pareto',\n",
       " 'halflogistic',\n",
       " 'semicircular',\n",
       " 'invweibull',\n",
       " 'ksone',\n",
       " 'mielke',\n",
       " 't',\n",
       " 'gengamma',\n",
       " 'johnsonsu',\n",
       " 'powernorm',\n",
       " 'powerlaw',\n",
       " 'burr',\n",
       " 'johnsonsb',\n",
       " 'beta',\n",
       " 'gamma',\n",
       " 'wald',\n",
       " 'ncf',\n",
       " 'arcsine',\n",
       " 'maxwell',\n",
       " 'gausshyper',\n",
       " 'rice',\n",
       " 'vonmises_line',\n",
       " 'loglaplace',\n",
       " 'exponweib',\n",
       " 'pearson3',\n",
       " 'chi',\n",
       " 'cosine',\n",
       " 'kstwobign',\n",
       " 'recipinvgauss',\n",
       " 'levy_stable',\n",
       " 'foldcauchy',\n",
       " 'wrapcauchy',\n",
       " 'truncexpon',\n",
       " 'genexpon',\n",
       " 'erlang',\n",
       " 'reciprocal',\n",
       " 'f',\n",
       " 'lomax',\n",
       " 'loggamma',\n",
       " 'invgamma',\n",
       " 'laplace',\n",
       " 'powerlognorm',\n",
       " 'vonmises',\n",
       " 'exponnorm',\n",
       " 'frechet_r',\n",
       " 'dweibull',\n",
       " 'rdist',\n",
       " 'gumbel_r',\n",
       " 'gompertz',\n",
       " 'halfcauchy',\n",
       " 'gennorm',\n",
       " 'exponpow',\n",
       " 'weibull_max',\n",
       " 'gumbel_l',\n",
       " 'halfnorm',\n",
       " 'levy',\n",
       " 'chi2',\n",
       " 'nct',\n",
       " 'uniform',\n",
       " 'fatiguelife',\n",
       " 'genextreme',\n",
       " 'alpha',\n",
       " 'hypsecant',\n",
       " 'bradford',\n",
       " 'cauchy',\n",
       " 'levy_l']"
      ]
     },
     "execution_count": 1,
     "metadata": {},
     "output_type": "execute_result"
    }
   ],
   "source": [
    "# -*- coding:utf-8 -*-\n",
    "from scipy import stats\n",
    "\n",
    "[k for k, v in stats.__dict__.items() if isinstance(v, stats.rv_continuous)]"
   ]
  },
  {
   "cell_type": "code",
   "execution_count": 2,
   "metadata": {},
   "outputs": [
    {
     "data": {
      "text/plain": [
       "(array(0.0), array(1.0))"
      ]
     },
     "execution_count": 2,
     "metadata": {},
     "output_type": "execute_result"
    }
   ],
   "source": [
    "stats.norm.stats()"
   ]
  },
  {
   "cell_type": "code",
   "execution_count": 3,
   "metadata": {
    "scrolled": true
   },
   "outputs": [
    {
     "data": {
      "text/plain": [
       "(array(1.0), array(4.0))"
      ]
     },
     "execution_count": 3,
     "metadata": {},
     "output_type": "execute_result"
    }
   ],
   "source": [
    "X = stats.norm(loc=1.0, scale=2.0)\n",
    "X.stats()"
   ]
  },
  {
   "cell_type": "code",
   "execution_count": 4,
   "metadata": {
    "scrolled": true
   },
   "outputs": [
    {
     "data": {
      "text/plain": [
       "(0.97971226034271275, 4.0612408700742018)"
      ]
     },
     "execution_count": 4,
     "metadata": {},
     "output_type": "execute_result"
    }
   ],
   "source": [
    "import numpy as np\n",
    "x = X.rvs(size=10000)\n",
    "np.mean(x), np.var(x)"
   ]
  },
  {
   "cell_type": "code",
   "execution_count": 5,
   "metadata": {},
   "outputs": [
    {
     "name": "stdout",
     "output_type": "stream",
     "text": [
      "7.68598842974 -6.26072034897\n",
      "(0.97971226034271275, 2.015252061176021)\n"
     ]
    }
   ],
   "source": [
    "print np.max(x), np.min(x)\n",
    "print stats.norm.fit(x)"
   ]
  },
  {
   "cell_type": "code",
   "execution_count": 6,
   "metadata": {},
   "outputs": [
    {
     "name": "stdout",
     "output_type": "stream",
     "text": [
      "max pdf error: 0.0223627711756, max cdf error: 0.0196919147533\n"
     ]
    }
   ],
   "source": [
    "pdf, t = np.histogram(x, bins=100, normed=True)\n",
    "# print t\n",
    "t = (t[:-1] + t[1:]) * 0.5 # （从0到最后 + 从1到最后）/ 2 求每个区间的中点位置\n",
    "# print t\n",
    "cdf = np.cumsum(pdf) * (t[1] - t[0])\n",
    "p_error = pdf - X.pdf(t)\n",
    "c_error = cdf - X.cdf(t)\n",
    "print \"max pdf error: {}, max cdf error: {}\".format(np.abs(p_error).max(), np.abs(c_error).max())"
   ]
  },
  {
   "cell_type": "code",
   "execution_count": 7,
   "metadata": {},
   "outputs": [
    {
     "data": {
      "text/plain": [
       "array([1, 1, 3, 5, 1, 2, 1, 1, 1, 6, 5, 1, 1, 3, 1, 2, 1, 1, 1, 1])"
      ]
     },
     "execution_count": 7,
     "metadata": {},
     "output_type": "execute_result"
    }
   ],
   "source": [
    "x = range(1, 7)\n",
    "p = (0.4, 0.2, 0.1, 0.1, 0.1, 0.1)\n",
    "\n",
    "dice = stats.rv_discrete(values=(x, p))\n",
    "dice.rvs(size=20)"
   ]
  },
  {
   "cell_type": "code",
   "execution_count": 8,
   "metadata": {},
   "outputs": [
    {
     "name": "stdout",
     "output_type": "stream",
     "text": [
      "[ 2.32  2.64  2.56 ...,  2.46  2.96  2.68]\n",
      "(array(2.6), array(3.04))\n",
      "(2.6013379999999997, 0.248077185077548)\n"
     ]
    }
   ],
   "source": [
    "np.random.seed(42)\n",
    "samples = dice.rvs(size=(20000, 50))\n",
    "samples_mean = np.mean(samples, axis=1)\n",
    "print samples_mean\n",
    "print dice.stats()\n",
    "print stats.norm.fit(samples_mean) # 期望为μ，方差为σ/n"
   ]
  },
  {
   "cell_type": "code",
   "execution_count": 9,
   "metadata": {},
   "outputs": [
    {
     "data": {
      "image/png": "[encoded data removed]",
      "text/plain": [
       "<matplotlib.figure.Figure at 0xaa6d770>"
      ]
     },
     "metadata": {},
     "output_type": "display_data"
    }
   ],
   "source": [
    "#coding:utf-8\n",
    "import matplotlib.pyplot as pl\n",
    "\n",
    "pl.rcParams['font.sans-serif']=['SimHei']\n",
    "pl.rcParams['axes.unicode_minus']=False\n",
    "\n",
    "_, bins, step = pl.hist(samples_mean, bins=100, normed=True, histtype=\"step\", label=u\"直方图统计\")\n",
    "kde = stats.kde.gaussian_kde(samples_mean)\n",
    "x = np.linspace(bins[0], bins[-1], 100)\n",
    "pl.plot(x, kde(x), label=u\"核密度估计\")\n",
    "mean, std = stats.norm.fit(samples_mean)\n",
    "pl.plot(x, stats.norm(mean, std).pdf(x), alpha=0.8, label=u\"正态分布拟合\")\n",
    "pl.legend()\n",
    "pl.show()"
   ]
  },
  {
   "cell_type": "code",
   "execution_count": 10,
   "metadata": {},
   "outputs": [
    {
     "data": {
      "image/png": "[encoded data removed]",
      "text/plain": [
       "<matplotlib.figure.Figure at 0x52838b0>"
      ]
     },
     "metadata": {},
     "output_type": "display_data"
    }
   ],
   "source": [
    "for bw in [0.2, 0.3, 0.6, 1.0]:\n",
    "    kde = stats.gaussian_kde([-1, 0, 1], bw_method=bw)\n",
    "    x = np.linspace(-5, 5, 1000)\n",
    "    y = kde(x)\n",
    "    pl.plot(x, y, lw=2, label=\"bw={}\".format(bw), alpha=0.6)\n",
    "pl.legend(loc=\"best\")\n",
    "pl.show()"
   ]
  },
  {
   "cell_type": "code",
   "execution_count": 11,
   "metadata": {},
   "outputs": [
    {
     "name": "stdout",
     "output_type": "stream",
     "text": [
      "time=1000, max_error=0.019642302016\n",
      "time=50000, max_error=0.00179801289496\n"
     ]
    }
   ],
   "source": [
    "np.random.seed(42)\n",
    "\n",
    "def sim_poisson(lambda_, time):\n",
    "    t = np.random.uniform(0, time, size=lambda_ * time)\n",
    "    count, time_edges = np.histogram(t, bins=time, range=(0, time))\n",
    "    dist, count_edges = np.histogram(count, bins=20, range=(0, 20), density=True)\n",
    "    x = count_edges[:-1]\n",
    "    poisson = stats.poisson.pmf(x, lambda_)\n",
    "    return x, poisson, dist\n",
    "\n",
    "lambda_ = 10\n",
    "times = 1000, 50000\n",
    "x1, poisson1, dist1 = sim_poisson(lambda_, times[0])\n",
    "x2, poisson2, dist2 = sim_poisson(lambda_, times[1])\n",
    "max_error1 = np.max(np.abs(dist1 - poisson1))\n",
    "max_error2 = np.max(np.abs(dist2 - poisson2))\n",
    "print \"time={}, max_error={}\".format(times[0], max_error1)\n",
    "print \"time={}, max_error={}\".format(times[1], max_error2)"
   ]
  },
  {
   "cell_type": "code",
   "execution_count": 12,
   "metadata": {},
   "outputs": [
    {
     "data": {
      "text/plain": [
       "201.94534998587028"
      ]
     },
     "execution_count": 12,
     "metadata": {},
     "output_type": "execute_result"
    }
   ],
   "source": [
    "T = 100000 # 模拟的总时间\n",
    "A_count = T / 5  # T时间内公交车A到达站点S的次数\n",
    "B_count = T / 10 # T时间内公交车B到达站点S的次数\n",
    "\n",
    "# 使用均匀分布模拟公交车到达S站点的时刻\n",
    "A_time = np.random.uniform(0, T, A_count) \n",
    "B_time = np.random.uniform(0, T, B_count)\n",
    "\n",
    "# 合并A、B公交车到达S的时刻并排序\n",
    "bus_time = np.concatenate((A_time, B_time))\n",
    "bus_time.sort()\n",
    "\n",
    "N = 200000 # 到达S站点乘客的数量\n",
    "# 使用均匀分布模拟在第一辆和最后一辆公交车到达S的两个时刻之间N个乘客到达S时的时刻\n",
    "passenger_time = np.random.uniform(bus_time[0], bus_time[-1], N)\n",
    "\n",
    "# np.searchsorted(a, v, side='left', sorter=None)\n",
    "# Find the indices into a sorted array a such that,\n",
    "# if the corresponding elements in v were inserted \n",
    "# before the indices, the order of a would be preserved.\n",
    "# 返回passenger_time数组中的每个元素应该插入在bus_time数组中那个元素的左边，返回bus_time\n",
    "# 数组中对应元素的索引坐标数组，该数组大小与passsenger_time数组大小相同。\n",
    "idx = np.searchsorted(bus_time, passenger_time)\n",
    "np.mean(bus_time[idx] - passenger_time) * 60"
   ]
  },
  {
   "cell_type": "code",
   "execution_count": 13,
   "metadata": {},
   "outputs": [
    {
     "data": {
      "text/plain": [
       "200.0"
      ]
     },
     "execution_count": 13,
     "metadata": {},
     "output_type": "execute_result"
    }
   ],
   "source": [
    "from scipy import integrate\n",
    "\n",
    "t = 10.0 / 3\n",
    "bus_interval = stats.gamma(1, scale=t)\n",
    "n, _ = integrate.quad(lambda x: 0.5 * x * x * bus_interval.pdf(x), 0, 1000)\n",
    "d, _ = integrate.quad(lambda x: x * bus_interval.pdf(x), 0, 1000)\n",
    "n / d * 60"
   ]
  },
  {
   "cell_type": "markdown",
   "metadata": {},
   "source": [
    "从均值为$\\mu$的正态分布中，抽取有$n$个值的样本，计算样本均值$\\overline{X}$和样本方差$s$：\n",
    "$$\\overline{X}=\\frac{X_1+\\cdots+X_n}{n},\\quad S^2=\\frac{1}{n-1}\\sum_{i=1}^{n}(X_i-\\overline{X})^2$$\n",
    "则$t=\\frac{\\overline{X}-\\mu}{s/\\sqrt{n}}$符合$df=n-1$的学生$t$-分布。$t$值是抽选的样本的平均值与整体样本的期望值之差经过正规化之后的数值，可以用来描述抽取的样本与整体样本之间的差异。"
   ]
  },
  {
   "cell_type": "code",
   "execution_count": 14,
   "metadata": {},
   "outputs": [
    {
     "name": "stdout",
     "output_type": "stream",
     "text": [
      "(100000,)\n",
      "max error: 0.00727345596251\n"
     ]
    }
   ],
   "source": [
    "mu = 0.0\n",
    "n = 10\n",
    "samples = stats.norm(mu).rvs(size=(100000, n))\n",
    "t_samples = (np.mean(samples, axis=1) - mu) / np.std(samples, ddof=1, axis=1) * n**0.5\n",
    "print t_samples.shape\n",
    "sample_dist, x = np.histogram(t_samples, bins=100, density=True)\n",
    "x = 0.5 * (x[:-1] + x[1:])\n",
    "t_dist = stats.t(n-1).pdf(x)\n",
    "print \"max error:\", np.max(np.abs(sample_dist - t_dist))"
   ]
  },
  {
   "cell_type": "markdown",
   "metadata": {},
   "source": [
    "### 置信区间\n",
    "$Pr(c1\\le\\mu{\\le}c2)=1-\\alpha$，其中$\\alpha$为显著水平"
   ]
  },
  {
   "cell_type": "code",
   "execution_count": 15,
   "metadata": {},
   "outputs": [
    {
     "name": "stdout",
     "output_type": "stream",
     "text": [
      "2.65858434088 Ttest_1sampResult(statistic=2.6585843408822241, pvalue=0.012637702257091229)\n"
     ]
    }
   ],
   "source": [
    "n = 30\n",
    "np.random.seed(42)\n",
    "s = stats.norm.rvs(loc=1, scale=0.8, size=n)\n",
    "\n",
    "t = (np.mean(s) - 0.5) / (np.std(s, ddof=1) / np.sqrt(n))\n",
    "print t, stats.ttest_1samp(s, 0.5)"
   ]
  },
  {
   "cell_type": "code",
   "execution_count": 18,
   "metadata": {
    "scrolled": false
   },
   "outputs": [
    {
     "data": {
      "image/png": "[encoded data removed]",
      "text/plain": [
       "<matplotlib.figure.Figure at 0xacdfa90>"
      ]
     },
     "metadata": {},
     "output_type": "display_data"
    }
   ],
   "source": [
    "x = np.linspace(-5, 5, 500)\n",
    "y = stats.t(n-1).pdf(x)\n",
    "pl.plot(x, y, lw=2)\n",
    "t, p = stats.ttest_1samp(s, 0.5)\n",
    "mask = x > np.abs(t)\n",
    "pl.fill_between(x[mask], y[mask], color=\"red\", alpha=0.5)\n",
    "mask = x < -np.abs(t)\n",
    "pl.fill_between(x[mask], y[mask], color=\"red\", alpha=0.5)\n",
    "pl.axhline(color=\"k\", lw=0.5)\n",
    "pl.xlim(-5, 5)\n",
    "pl.show()"
   ]
  },
  {
   "cell_type": "code",
   "execution_count": 17,
   "metadata": {},
   "outputs": [
    {
     "data": {
      "text/plain": [
       "0.012695"
      ]
     },
     "execution_count": 17,
     "metadata": {},
     "output_type": "execute_result"
    }
   ],
   "source": [
    "m = 200000\n",
    "mean = 0.5\n",
    "r = stats.norm.rvs(loc=mean, scale=0.8, size=(m,n))\n",
    "ts = (np.mean(s) - mean) / (np.std(s, ddof=1) / np.sqrt(n))\n",
    "tr = (np.mean(r, axis=1) - mean) / (np.std(r, ddof=1, axis=1) / np.sqrt(n))\n",
    "np.mean(np.abs(tr) > np.abs(ts))"
   ]
  },
  {
   "cell_type": "markdown",
   "metadata": {},
   "source": [
    "卡方分布($\\chi^2$)是k个**独立的标准正态分布变量**的平方和的分布，自由度为k。"
   ]
  },
  {
   "cell_type": "code",
   "execution_count": 19,
   "metadata": {},
   "outputs": [
    {
     "name": "stdout",
     "output_type": "stream",
     "text": [
      "max error: 0.00355101622573\n"
     ]
    }
   ],
   "source": [
    "a = np.random.normal(size=(300000, 4))\n",
    "cs = np.sum(a**2, axis=1)\n",
    "\n",
    "sample_dist, bins = np.histogram(cs, bins=100, range=(0, 20), density=True)\n",
    "x = 0.5 * (bins[:-1] + bins[1:])\n",
    "chi2_dist = stats.chi2.pdf(x, 4)\n",
    "print \"max error:\", np.max(np.abs(sample_dist - chi2_dist))"
   ]
  },
  {
   "cell_type": "code",
   "execution_count": 22,
   "metadata": {},
   "outputs": [
    {
     "data": {
      "image/png": "[encoded data removed]",
      "text/plain": [
       "<matplotlib.figure.Figure at 0x5283a30>"
      ]
     },
     "metadata": {},
     "output_type": "display_data"
    }
   ],
   "source": [
    "repeat_count = 60000\n",
    "n, k = 100, 5\n",
    "\n",
    "np.random.seed(42)\n",
    "ball_ids = np.random.randint(0, k, size=(repeat_count, n))\n",
    "counts = np.apply_along_axis(np.bincount, 1, ball_ids, minlength=k)\n",
    "cs2 = np.sum((counts - n/k)**2.0 / (n/k), axis=1)\n",
    "k = stats.kde.gaussian_kde(cs2)\n",
    "x = np.linspace(0, 10, 200)\n",
    "pl.plot(x, stats.chi2.pdf(x, 4), lw=2, label=u\"$\\chi^2$分布\")\n",
    "pl.plot(x, k(x), lw=2, color=\"red\", alpha=0.6, label=u\"样本分布\")\n",
    "pl.legend(loc=\"best\")\n",
    "pl.xlim(0, 10)\n",
    "pl.show()"
   ]
  },
  {
   "cell_type": "code",
   "execution_count": 23,
   "metadata": {},
   "outputs": [
    {
     "name": "stdout",
     "output_type": "stream",
     "text": [
      "[80 93 97 64 66]\n",
      "[89 76 79 71 85]\n"
     ]
    }
   ],
   "source": [
    "def choose_balls(probabilities, size):\n",
    "    r = stats.rv_discrete(values=(range(len(probabilities)), probabilities))\n",
    "    s = r.rvs(size=size)\n",
    "    counts = np.bincount(s)\n",
    "    return counts\n",
    "\n",
    "np.random.seed(42)\n",
    "counts1 = choose_balls([0.18, 0.24, 0.25, 0.16, 0.17], 400)\n",
    "counts2 = choose_balls([0.2]*5, 400)\n",
    "\n",
    "print counts1\n",
    "print counts2"
   ]
  },
  {
   "cell_type": "code",
   "execution_count": 24,
   "metadata": {},
   "outputs": [
    {
     "name": "stdout",
     "output_type": "stream",
     "text": [
      "chi1 = 11.375 p1 = 0.0226576012398\n",
      "chi2 = 2.55 p2 = 0.635705452704\n"
     ]
    }
   ],
   "source": [
    "chi1, p1 = stats.chisquare(counts1)\n",
    "chi2, p2 = stats.chisquare(counts2)\n",
    "\n",
    "print \"chi1 =\", chi1, \"p1 =\", p1\n",
    "print \"chi2 =\", chi2, \"p2 =\", p2"
   ]
  },
  {
   "cell_type": "code",
   "execution_count": 25,
   "metadata": {},
   "outputs": [
    {
     "name": "stdout",
     "output_type": "stream",
     "text": [
      "1.0724852071 0.300384770391\n"
     ]
    }
   ],
   "source": [
    "table = [[43, 9], [44, 4]]\n",
    "chi2, p, dof, expected = stats.chi2_contingency(table)\n",
    "\n",
    "print chi2, p"
   ]
  },
  {
   "cell_type": "code",
   "execution_count": 26,
   "metadata": {},
   "outputs": [
    {
     "data": {
      "text/plain": [
       "(0.43434343434343436, 0.23915695682225505)"
      ]
     },
     "execution_count": 26,
     "metadata": {},
     "output_type": "execute_result"
    }
   ],
   "source": [
    "stats.fisher_exact(table)"
   ]
  },
  {
   "cell_type": "code",
   "execution_count": null,
   "metadata": {
    "collapsed": true
   },
   "outputs": [],
   "source": []
  }
 ],
 "metadata": {
  "kernelspec": {
   "display_name": "Python 2",
   "language": "python",
   "name": "python2"
  },
  "language_info": {
   "codemirror_mode": {
    "name": "ipython",
    "version": 2
   },
   "file_extension": ".py",
   "mimetype": "text/x-python",
   "name": "python",
   "nbconvert_exporter": "python",
   "pygments_lexer": "ipython2",
   "version": "2.7.13"
  }
 },
 "nbformat": 4,
 "nbformat_minor": 2
}
