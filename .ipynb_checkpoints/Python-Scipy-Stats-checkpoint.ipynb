{
 "cells": [
  {
   "cell_type": "code",
   "execution_count": 1,
   "metadata": {
    "scrolled": true,
    "slideshow": {
     "slide_type": "notes"
    }
   },
   "outputs": [
    {
     "data": {
      "text/plain": [
       "['genhalflogistic',\n",
       " 'triang',\n",
       " 'kappa3',\n",
       " 'rayleigh',\n",
       " 'betaprime',\n",
       " 'foldnorm',\n",
       " 'genlogistic',\n",
       " 'gilbrat',\n",
       " 'genpareto',\n",
       " 'lognorm',\n",
       " 'anglit',\n",
       " 'truncnorm',\n",
       " 'expon',\n",
       " 'norm',\n",
       " 'nakagami',\n",
       " 'weibull_min',\n",
       " 'invgauss',\n",
       " 'logistic',\n",
       " 'ncx2',\n",
       " 'halfnorm',\n",
       " 'fisk',\n",
       " 'halfgennorm',\n",
       " 'tukeylambda',\n",
       " 'frechet_l',\n",
       " 'dgamma',\n",
       " 'pareto',\n",
       " 'halflogistic',\n",
       " 'semicircular',\n",
       " 'invweibull',\n",
       " 'ksone',\n",
       " 'mielke',\n",
       " 't',\n",
       " 'gengamma',\n",
       " 'johnsonsu',\n",
       " 'powernorm',\n",
       " 'powerlaw',\n",
       " 'burr',\n",
       " 'johnsonsb',\n",
       " 'wrapcauchy',\n",
       " 'argus',\n",
       " 'genextreme',\n",
       " 'gamma',\n",
       " 'wald',\n",
       " 'ncf',\n",
       " 'arcsine',\n",
       " 'maxwell',\n",
       " 'gausshyper',\n",
       " 'rice',\n",
       " 'alpha',\n",
       " 'vonmises_line',\n",
       " 'loglaplace',\n",
       " 'exponweib',\n",
       " 'pearson3',\n",
       " 'chi',\n",
       " 'burr12',\n",
       " 'cosine',\n",
       " 'kstwobign',\n",
       " 'recipinvgauss',\n",
       " 'levy_stable',\n",
       " 'beta',\n",
       " 'foldcauchy',\n",
       " 'truncexpon',\n",
       " 'genexpon',\n",
       " 'erlang',\n",
       " 'reciprocal',\n",
       " 'f',\n",
       " 'lomax',\n",
       " 'loggamma',\n",
       " 'invgamma',\n",
       " 'laplace',\n",
       " 'powerlognorm',\n",
       " 'vonmises',\n",
       " 'exponnorm',\n",
       " 'frechet_r',\n",
       " 'rdist',\n",
       " 'dweibull',\n",
       " 'gumbel_r',\n",
       " 'gompertz',\n",
       " 'halfcauchy',\n",
       " 'gennorm',\n",
       " 'exponpow',\n",
       " 'weibull_max',\n",
       " 'gumbel_l',\n",
       " 'levy',\n",
       " 'chi2',\n",
       " 'nct',\n",
       " 'uniform',\n",
       " 'fatiguelife',\n",
       " 'skewnorm',\n",
       " 'hypsecant',\n",
       " 'bradford',\n",
       " 'kappa4',\n",
       " 'cauchy',\n",
       " 'trapz',\n",
       " 'levy_l']"
      ]
     },
     "execution_count": 1,
     "metadata": {},
     "output_type": "execute_result"
    }
   ],
   "source": [
    "from scipy import stats\n",
    "\n",
    "[k for k, v in stats.__dict__.items() if isinstance(v, stats.rv_continuous)]"
   ]
  },
  {
   "cell_type": "code",
   "execution_count": 3,
   "metadata": {},
   "outputs": [
    {
     "data": {
      "text/plain": [
       "(array(0.0), array(1.0))"
      ]
     },
     "execution_count": 3,
     "metadata": {},
     "output_type": "execute_result"
    }
   ],
   "source": [
    "stats.norm.stats()"
   ]
  },
  {
   "cell_type": "code",
   "execution_count": 4,
   "metadata": {},
   "outputs": [
    {
     "data": {
      "text/plain": [
       "(array(1.0), array(4.0))"
      ]
     },
     "execution_count": 4,
     "metadata": {},
     "output_type": "execute_result"
    }
   ],
   "source": [
    "X = stats.norm(loc=1.0, scale=2.0)\n",
    "X.stats()"
   ]
  },
  {
   "cell_type": "code",
   "execution_count": 6,
   "metadata": {},
   "outputs": [
    {
     "data": {
      "text/plain": [
       "(0.96885524274494017, 3.9699077830756337)"
      ]
     },
     "execution_count": 6,
     "metadata": {},
     "output_type": "execute_result"
    }
   ],
   "source": [
    "import numpy as np\n",
    "x = X.rvs(size=10000)\n",
    "np.mean(x), np.var(x)"
   ]
  },
  {
   "cell_type": "code",
   "execution_count": 12,
   "metadata": {},
   "outputs": [
    {
     "name": "stdout",
     "output_type": "stream",
     "text": [
      "8.97420903078 -6.36553266551\n",
      "(0.96885524274494017, 1.9924627432089248)\n"
     ]
    }
   ],
   "source": [
    "print np.max(x), np.min(x)\n",
    "print stats.norm.fit(x)"
   ]
  },
  {
   "cell_type": "code",
   "execution_count": 14,
   "metadata": {},
   "outputs": [
    {
     "name": "stdout",
     "output_type": "stream",
     "text": [
      "max pdf error: 0.0265610895241, max cdf error: 0.0202758009523\n"
     ]
    }
   ],
   "source": [
    "pdf, t = np.histogram(x, bins=100, normed=True)\n",
    "# print t\n",
    "t = (t[:-1] + t[1:]) * 0.5 # （从0到最后 + 从1到最后）/ 2 求每个区间的中点位置\n",
    "# print t\n",
    "cdf = np.cumsum(pdf) * (t[1] - t[0])\n",
    "p_error = pdf - X.pdf(t)\n",
    "c_error = cdf - X.cdf(t)\n",
    "print \"max pdf error: {}, max cdf error: {}\".format(np.abs(p_error).max(), np.abs(c_error).max())"
   ]
  },
  {
   "cell_type": "code",
   "execution_count": 15,
   "metadata": {},
   "outputs": [
    {
     "data": {
      "text/plain": [
       "array([6, 1, 6, 1, 1, 1, 1, 1, 6, 4, 1, 3, 2, 5, 3, 1, 3, 2, 1, 2])"
      ]
     },
     "execution_count": 15,
     "metadata": {},
     "output_type": "execute_result"
    }
   ],
   "source": [
    "x = range(1, 7)\n",
    "p = (0.4, 0.2, 0.1, 0.1, 0.1, 0.1)\n",
    "\n",
    "dice = stats.rv_discrete(values=(x, p))\n",
    "dice.rvs(size=20)"
   ]
  },
  {
   "cell_type": "code",
   "execution_count": 19,
   "metadata": {},
   "outputs": [
    {
     "name": "stdout",
     "output_type": "stream",
     "text": [
      "[ 2.32  2.64  2.56 ...,  2.46  2.96  2.68]\n",
      "(array(2.6), array(3.04))\n",
      "(2.6013379999999997, 0.248077185077548)\n"
     ]
    }
   ],
   "source": [
    "np.random.seed(42)\n",
    "samples = dice.rvs(size=(20000, 50))\n",
    "samples_mean = np.mean(samples, axis=1)\n",
    "print samples_mean\n",
    "print dice.stats()\n",
    "print stats.norm.fit(samples_mean) # 期望为μ，方差为σ/n"
   ]
  },
  {
   "cell_type": "code",
   "execution_count": 24,
   "metadata": {},
   "outputs": [
    {
     "data": {
      "text/plain": [
       "<matplotlib.legend.Legend at 0x111204550>"
      ]
     },
     "execution_count": 24,
     "metadata": {},
     "output_type": "execute_result"
    }
   ],
   "source": [
    "import matplotlib.pyplot as pl\n",
    "\n",
    "_, bins, step = pl.hist(samples_mean, bins=100, normed=True, histtype=\"step\", label=u\"直方图统计\")\n",
    "kde = stats.kde.gaussian_kde(samples_mean)\n",
    "x = np.linspace(bins[0], bins[-1], 100)\n",
    "pl.plot(x, kde(x), label=u\"核密度估计\")\n",
    "mean, std = stats.norm.fit(samples_mean)\n",
    "pl.plot(x, stats.norm(mean, std).pdf(x), alpha=0.8, label=u\"正态分布拟合\")\n",
    "pl.legend()\n",
    "pl.show()"
   ]
  },
  {
   "cell_type": "code",
   "execution_count": null,
   "metadata": {
    "collapsed": true
   },
   "outputs": [],
   "source": []
  }
 ],
 "metadata": {
  "kernelspec": {
   "display_name": "Python 2",
   "language": "python",
   "name": "python2"
  },
  "language_info": {
   "codemirror_mode": {
    "name": "ipython",
    "version": 2
   },
   "file_extension": ".py",
   "mimetype": "text/x-python",
   "name": "python",
   "nbconvert_exporter": "python",
   "pygments_lexer": "ipython2",
   "version": "2.7.11"
  }
 },
 "nbformat": 4,
 "nbformat_minor": 2
}
