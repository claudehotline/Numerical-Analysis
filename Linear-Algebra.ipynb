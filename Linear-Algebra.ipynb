{
 "cells": [
  {
   "cell_type": "code",
   "execution_count": 3,
   "metadata": {},
   "outputs": [
    {
     "name": "stdout",
     "output_type": "stream",
     "text": [
      "True\n",
      "10 loops, best of 3: 126 ms per loop\n",
      "100 loops, best of 3: 7.97 ms per loop\n"
     ]
    }
   ],
   "source": [
    "import numpy as np\n",
    "from scipy import linalg\n",
    "\n",
    "m, n = 500, 50\n",
    "A = np.random.rand(m, m)\n",
    "B = np.random.rand(m, n)\n",
    "X1 = linalg.solve(A, B)\n",
    "X2 = np.dot(linalg.inv(A), B)\n",
    "print np.allclose(X1, X2)\n",
    "%timeit linalg.solve(A, B)\n",
    "%timeit np.dot(linalg.inv(A), B)"
   ]
  },
  {
   "cell_type": "markdown",
   "metadata": {},
   "source": [
    "### 矩阵LU分解"
   ]
  },
  {
   "cell_type": "code",
   "execution_count": 4,
   "metadata": {},
   "outputs": [
    {
     "data": {
      "text/plain": [
       "True"
      ]
     },
     "execution_count": 4,
     "metadata": {},
     "output_type": "execute_result"
    }
   ],
   "source": [
    "luf = linalg.lu_factor(A)\n",
    "X3 = linalg.lu_solve(luf, B)\n",
    "np.allclose(X1, X2)"
   ]
  },
  {
   "cell_type": "code",
   "execution_count": 5,
   "metadata": {},
   "outputs": [
    {
     "name": "stdout",
     "output_type": "stream",
     "text": [
      "10 loops, best of 3: 47.3 ms per loop\n",
      "100 loops, best of 3: 3.74 ms per loop\n",
      "10 loops, best of 3: 19.3 ms per loop\n",
      "100 loops, best of 3: 5.09 ms per loop\n"
     ]
    }
   ],
   "source": [
    "M, N = 1000, 100\n",
    "np.random.seed(0)\n",
    "A = np.random.rand(M, M)\n",
    "B = np.random.rand(M, N)\n",
    "Ai = linalg.inv(A)\n",
    "luf = linalg.lu_factor(A)\n",
    "%timeit linalg.inv(A)\n",
    "%timeit np.dot(Ai, B)\n",
    "%timeit linalg.lu_factor(A)\n",
    "%timeit linalg.lu_solve(luf, B)"
   ]
  },
  {
   "cell_type": "code",
   "execution_count": null,
   "metadata": {
    "collapsed": true
   },
   "outputs": [],
   "source": []
  }
 ],
 "metadata": {
  "kernelspec": {
   "display_name": "Python 2",
   "language": "python",
   "name": "python2"
  },
  "language_info": {
   "codemirror_mode": {
    "name": "ipython",
    "version": 2
   },
   "file_extension": ".py",
   "mimetype": "text/x-python",
   "name": "python",
   "nbconvert_exporter": "python",
   "pygments_lexer": "ipython2",
   "version": "2.7.11"
  }
 },
 "nbformat": 4,
 "nbformat_minor": 2
}
