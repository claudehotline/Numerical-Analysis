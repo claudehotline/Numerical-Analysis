{
 "cells": [
  {
   "cell_type": "code",
   "execution_count": 44,
   "metadata": {},
   "outputs": [
    {
     "name": "stdout",
     "output_type": "stream",
     "text": [
      "[('cat', 3), ('bat', 2), ('mat', 1)]\n",
      "[('butter', 2), ('a', 1), ('betty', 1)]\n"
     ]
    }
   ],
   "source": [
    "\"\"\"Count words.\"\"\"\n",
    "\n",
    "def count_words(s, n):\n",
    "    \"\"\"Return the n most frequently occuring words in s.\"\"\"\n",
    "\n",
    "    # TODO: Count the number of occurences of each word in s\n",
    "    occurence = {word: s.split().count(word) for word in set(s.split())}\n",
    "    occurence_list = zip (occurence.keys(), occurence.values())\n",
    "    # TODO: Sort the occurences in descending order (alphabetically in case of ties)\n",
    "    sorted_list = sorted(occurence_list, key = lambda x: (-x[1], x[0])) \n",
    "    top_n = sorted_list[:3]\n",
    "    # TODO: Return the top n most frequent words.\n",
    "    return top_n\n",
    "\n",
    "\n",
    "def test_run():\n",
    "    \"\"\"Test count_words() with some inputs.\"\"\"\n",
    "    print count_words(\"cat bat mat cat bat cat\", 3)\n",
    "    print count_words(\"betty bought a bit of butter but the butter was bitter\", 3)\n",
    "\n",
    "\n",
    "if __name__ == '__main__':\n",
    "    test_run()"
   ]
  },
  {
   "cell_type": "code",
   "execution_count": null,
   "metadata": {},
   "outputs": [],
   "source": []
  },
  {
   "cell_type": "code",
   "execution_count": null,
   "metadata": {
    "collapsed": true
   },
   "outputs": [],
   "source": []
  },
  {
   "cell_type": "code",
   "execution_count": null,
   "metadata": {
    "collapsed": true
   },
   "outputs": [],
   "source": []
  }
 ],
 "metadata": {
  "kernelspec": {
   "display_name": "Python 2",
   "language": "python",
   "name": "python2"
  },
  "language_info": {
   "codemirror_mode": {
    "name": "ipython",
    "version": 2
   },
   "file_extension": ".py",
   "mimetype": "text/x-python",
   "name": "python",
   "nbconvert_exporter": "python",
   "pygments_lexer": "ipython2",
   "version": "2.7.11"
  }
 },
 "nbformat": 4,
 "nbformat_minor": 2
}
